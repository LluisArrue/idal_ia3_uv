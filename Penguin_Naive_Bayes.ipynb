{
  "nbformat": 4,
  "nbformat_minor": 0,
  "metadata": {
    "colab": {
      "name": "Penguin Naive Bayes",
      "provenance": [],
      "collapsed_sections": [],
      "toc_visible": true,
      "authorship_tag": "ABX9TyN3XblPnoNqBMkaxKA+SqNs",
      "include_colab_link": true
    },
    "kernelspec": {
      "name": "python3",
      "display_name": "Python 3"
    }
  },
  "cells": [
    {
      "cell_type": "markdown",
      "metadata": {
        "id": "view-in-github",
        "colab_type": "text"
      },
      "source": [
        "<a href=\"https://colab.research.google.com/github/LluisArrue/idal_ia3_uv/blob/main/Penguin_Naive_Bayes.ipynb\" target=\"_parent\"><img src=\"https://colab.research.google.com/assets/colab-badge.svg\" alt=\"Open In Colab\"/></a>"
      ]
    },
    {
      "cell_type": "code",
      "metadata": {
        "id": "WAVmRhtl3c4a"
      },
      "source": [
        "from seaborn import load_dataset\n",
        "import numpy as np\n",
        "import pandas as pd\n",
        "\n",
        "from sklearn.model_selection import train_test_split\n",
        "from sklearn.naive_bayes import BernoulliNB\n",
        "from sklearn.naive_bayes import CategoricalNB\n",
        "from sklearn.metrics import accuracy_score, roc_curve, auc\n",
        "\n",
        "import matplotlib.pyplot as plt\n",
        "\n",
        "import plotly.express as px"
      ],
      "execution_count": 1,
      "outputs": []
    },
    {
      "cell_type": "markdown",
      "metadata": {
        "id": "F41HuTTELGwF"
      },
      "source": [
        "## Data"
      ]
    },
    {
      "cell_type": "markdown",
      "metadata": {
        "id": "EiSHzvgWLx3g"
      },
      "source": [
        "### Carga de datos"
      ]
    },
    {
      "cell_type": "code",
      "metadata": {
        "id": "K7Rl9mHv3kHT",
        "colab": {
          "base_uri": "https://localhost:8080/",
          "height": 359
        },
        "outputId": "f5e82260-cfee-4ca9-d392-e445e6f294d8"
      },
      "source": [
        "dataset = load_dataset(\"penguins\")\n",
        "dataset.dropna(inplace=True)\n",
        "dataset.head(10)"
      ],
      "execution_count": 2,
      "outputs": [
        {
          "output_type": "execute_result",
          "data": {
            "text/html": [
              "<div>\n",
              "<style scoped>\n",
              "    .dataframe tbody tr th:only-of-type {\n",
              "        vertical-align: middle;\n",
              "    }\n",
              "\n",
              "    .dataframe tbody tr th {\n",
              "        vertical-align: top;\n",
              "    }\n",
              "\n",
              "    .dataframe thead th {\n",
              "        text-align: right;\n",
              "    }\n",
              "</style>\n",
              "<table border=\"1\" class=\"dataframe\">\n",
              "  <thead>\n",
              "    <tr style=\"text-align: right;\">\n",
              "      <th></th>\n",
              "      <th>species</th>\n",
              "      <th>island</th>\n",
              "      <th>bill_length_mm</th>\n",
              "      <th>bill_depth_mm</th>\n",
              "      <th>flipper_length_mm</th>\n",
              "      <th>body_mass_g</th>\n",
              "      <th>sex</th>\n",
              "    </tr>\n",
              "  </thead>\n",
              "  <tbody>\n",
              "    <tr>\n",
              "      <th>0</th>\n",
              "      <td>Adelie</td>\n",
              "      <td>Torgersen</td>\n",
              "      <td>39.1</td>\n",
              "      <td>18.7</td>\n",
              "      <td>181.0</td>\n",
              "      <td>3750.0</td>\n",
              "      <td>Male</td>\n",
              "    </tr>\n",
              "    <tr>\n",
              "      <th>1</th>\n",
              "      <td>Adelie</td>\n",
              "      <td>Torgersen</td>\n",
              "      <td>39.5</td>\n",
              "      <td>17.4</td>\n",
              "      <td>186.0</td>\n",
              "      <td>3800.0</td>\n",
              "      <td>Female</td>\n",
              "    </tr>\n",
              "    <tr>\n",
              "      <th>2</th>\n",
              "      <td>Adelie</td>\n",
              "      <td>Torgersen</td>\n",
              "      <td>40.3</td>\n",
              "      <td>18.0</td>\n",
              "      <td>195.0</td>\n",
              "      <td>3250.0</td>\n",
              "      <td>Female</td>\n",
              "    </tr>\n",
              "    <tr>\n",
              "      <th>4</th>\n",
              "      <td>Adelie</td>\n",
              "      <td>Torgersen</td>\n",
              "      <td>36.7</td>\n",
              "      <td>19.3</td>\n",
              "      <td>193.0</td>\n",
              "      <td>3450.0</td>\n",
              "      <td>Female</td>\n",
              "    </tr>\n",
              "    <tr>\n",
              "      <th>5</th>\n",
              "      <td>Adelie</td>\n",
              "      <td>Torgersen</td>\n",
              "      <td>39.3</td>\n",
              "      <td>20.6</td>\n",
              "      <td>190.0</td>\n",
              "      <td>3650.0</td>\n",
              "      <td>Male</td>\n",
              "    </tr>\n",
              "    <tr>\n",
              "      <th>6</th>\n",
              "      <td>Adelie</td>\n",
              "      <td>Torgersen</td>\n",
              "      <td>38.9</td>\n",
              "      <td>17.8</td>\n",
              "      <td>181.0</td>\n",
              "      <td>3625.0</td>\n",
              "      <td>Female</td>\n",
              "    </tr>\n",
              "    <tr>\n",
              "      <th>7</th>\n",
              "      <td>Adelie</td>\n",
              "      <td>Torgersen</td>\n",
              "      <td>39.2</td>\n",
              "      <td>19.6</td>\n",
              "      <td>195.0</td>\n",
              "      <td>4675.0</td>\n",
              "      <td>Male</td>\n",
              "    </tr>\n",
              "    <tr>\n",
              "      <th>12</th>\n",
              "      <td>Adelie</td>\n",
              "      <td>Torgersen</td>\n",
              "      <td>41.1</td>\n",
              "      <td>17.6</td>\n",
              "      <td>182.0</td>\n",
              "      <td>3200.0</td>\n",
              "      <td>Female</td>\n",
              "    </tr>\n",
              "    <tr>\n",
              "      <th>13</th>\n",
              "      <td>Adelie</td>\n",
              "      <td>Torgersen</td>\n",
              "      <td>38.6</td>\n",
              "      <td>21.2</td>\n",
              "      <td>191.0</td>\n",
              "      <td>3800.0</td>\n",
              "      <td>Male</td>\n",
              "    </tr>\n",
              "    <tr>\n",
              "      <th>14</th>\n",
              "      <td>Adelie</td>\n",
              "      <td>Torgersen</td>\n",
              "      <td>34.6</td>\n",
              "      <td>21.1</td>\n",
              "      <td>198.0</td>\n",
              "      <td>4400.0</td>\n",
              "      <td>Male</td>\n",
              "    </tr>\n",
              "  </tbody>\n",
              "</table>\n",
              "</div>"
            ],
            "text/plain": [
              "   species     island  bill_length_mm  ...  flipper_length_mm  body_mass_g     sex\n",
              "0   Adelie  Torgersen            39.1  ...              181.0       3750.0    Male\n",
              "1   Adelie  Torgersen            39.5  ...              186.0       3800.0  Female\n",
              "2   Adelie  Torgersen            40.3  ...              195.0       3250.0  Female\n",
              "4   Adelie  Torgersen            36.7  ...              193.0       3450.0  Female\n",
              "5   Adelie  Torgersen            39.3  ...              190.0       3650.0    Male\n",
              "6   Adelie  Torgersen            38.9  ...              181.0       3625.0  Female\n",
              "7   Adelie  Torgersen            39.2  ...              195.0       4675.0    Male\n",
              "12  Adelie  Torgersen            41.1  ...              182.0       3200.0  Female\n",
              "13  Adelie  Torgersen            38.6  ...              191.0       3800.0    Male\n",
              "14  Adelie  Torgersen            34.6  ...              198.0       4400.0    Male\n",
              "\n",
              "[10 rows x 7 columns]"
            ]
          },
          "metadata": {
            "tags": []
          },
          "execution_count": 2
        }
      ]
    },
    {
      "cell_type": "markdown",
      "metadata": {
        "id": "_UtvcFJSL2Ih"
      },
      "source": [
        "### División de datos"
      ]
    },
    {
      "cell_type": "code",
      "metadata": {
        "id": "fbwQJO5tbwuO"
      },
      "source": [
        "X = dataset.drop(columns='sex')"
      ],
      "execution_count": 3,
      "outputs": []
    },
    {
      "cell_type": "code",
      "metadata": {
        "id": "4Y3rnE3Bb_dc"
      },
      "source": [
        "X[X['species'].unique()] = pd.get_dummies(X['species'])\n",
        "X=X.drop(columns= 'species')\n",
        "X[X['island'].unique()] = pd.get_dummies(X['island'])\n",
        "X=X.drop(columns= 'island')"
      ],
      "execution_count": 4,
      "outputs": []
    },
    {
      "cell_type": "code",
      "metadata": {
        "id": "T3AY17303v4Z"
      },
      "source": [
        "y = pd.Series([1 if i == 'Male' else 0 for i in dataset['sex']])"
      ],
      "execution_count": 5,
      "outputs": []
    },
    {
      "cell_type": "code",
      "metadata": {
        "id": "5uxCkzN9LMi-"
      },
      "source": [
        ""
      ],
      "execution_count": 5,
      "outputs": []
    },
    {
      "cell_type": "code",
      "metadata": {
        "id": "iq7oovUi46uZ",
        "colab": {
          "base_uri": "https://localhost:8080/"
        },
        "outputId": "6cbfdcd2-8ad6-4b5c-8255-2113dfb33fe0"
      },
      "source": [
        "X_train, X_test, y_train, y_test = train_test_split(X, y, test_size=0.3, random_state = 42)\n",
        "print(f'The lenght of X train is {len(X_train)}')\n",
        "print(f'The lenght of X test is {len(X_test)}')"
      ],
      "execution_count": 6,
      "outputs": [
        {
          "output_type": "stream",
          "text": [
            "The lenght of X train is 233\n",
            "The lenght of X test is 100\n"
          ],
          "name": "stdout"
        }
      ]
    },
    {
      "cell_type": "markdown",
      "metadata": {
        "id": "Cm2pXsZtL6sI"
      },
      "source": [
        "### Normalización de datos"
      ]
    },
    {
      "cell_type": "code",
      "metadata": {
        "colab": {
          "base_uri": "https://localhost:8080/",
          "height": 1000
        },
        "id": "WLFnysb8dESe",
        "outputId": "e47cef9c-c91a-4d55-a6a0-730e9c6345d9"
      },
      "source": [
        "bill_l_mean = X_train['bill_length_mm'].mean()\n",
        "bill_l_std = X_train['bill_length_mm'].std()\n",
        "X_train['bill_length_mm'] = [(i- bill_l_mean)/bill_l_std for i in X_train['bill_length_mm']]\n",
        "X_test['bill_length_mm'] = [(i- bill_l_mean)/bill_l_std for i in X_test['bill_length_mm']]\n",
        "\n",
        "bill_d_mean = X_train['bill_depth_mm'].mean()\n",
        "bill_d_std = X_train['bill_depth_mm'].std()\n",
        "X_train['bill_depth_mm'] = [(i- bill_d_mean)/bill_d_std for i in X_train['bill_depth_mm']]\n",
        "X_test['bill_depth_mm'] = [(i- bill_d_mean)/bill_d_std for i in X_test['bill_depth_mm']]\n",
        "\n",
        "flipper_l_mean = X_train['flipper_length_mm'].mean()\n",
        "flipper_l_std = X_train['flipper_length_mm'].std()\n",
        "X_train['flipper_length_mm'] = [(i- flipper_l_mean)/flipper_l_std for i in X_train['flipper_length_mm']]\n",
        "X_test['flipper_length_mm'] = [(i- flipper_l_mean)/flipper_l_std for i in X_test['flipper_length_mm']]\n",
        "\n",
        "bdy_mss_mean = X_train['body_mass_g'].mean()\n",
        "bdy_mss_std = X_train['body_mass_g'].std()\n",
        "X_train['body_mass_g'] = [(i- bdy_mss_mean)/bdy_mss_std for i in X_train['body_mass_g']]\n",
        "X_test['body_mass_g'] = [(i- bdy_mss_mean)/bdy_mss_std for i in X_test['body_mass_g']]\n",
        "\n",
        "X_train.head()\n",
        "X_test.head()"
      ],
      "execution_count": 7,
      "outputs": [
        {
          "output_type": "stream",
          "text": [
            "/usr/local/lib/python3.6/dist-packages/ipykernel_launcher.py:3: SettingWithCopyWarning:\n",
            "\n",
            "\n",
            "A value is trying to be set on a copy of a slice from a DataFrame.\n",
            "Try using .loc[row_indexer,col_indexer] = value instead\n",
            "\n",
            "See the caveats in the documentation: https://pandas.pydata.org/pandas-docs/stable/user_guide/indexing.html#returning-a-view-versus-a-copy\n",
            "\n",
            "/usr/local/lib/python3.6/dist-packages/ipykernel_launcher.py:4: SettingWithCopyWarning:\n",
            "\n",
            "\n",
            "A value is trying to be set on a copy of a slice from a DataFrame.\n",
            "Try using .loc[row_indexer,col_indexer] = value instead\n",
            "\n",
            "See the caveats in the documentation: https://pandas.pydata.org/pandas-docs/stable/user_guide/indexing.html#returning-a-view-versus-a-copy\n",
            "\n",
            "/usr/local/lib/python3.6/dist-packages/ipykernel_launcher.py:8: SettingWithCopyWarning:\n",
            "\n",
            "\n",
            "A value is trying to be set on a copy of a slice from a DataFrame.\n",
            "Try using .loc[row_indexer,col_indexer] = value instead\n",
            "\n",
            "See the caveats in the documentation: https://pandas.pydata.org/pandas-docs/stable/user_guide/indexing.html#returning-a-view-versus-a-copy\n",
            "\n",
            "/usr/local/lib/python3.6/dist-packages/ipykernel_launcher.py:9: SettingWithCopyWarning:\n",
            "\n",
            "\n",
            "A value is trying to be set on a copy of a slice from a DataFrame.\n",
            "Try using .loc[row_indexer,col_indexer] = value instead\n",
            "\n",
            "See the caveats in the documentation: https://pandas.pydata.org/pandas-docs/stable/user_guide/indexing.html#returning-a-view-versus-a-copy\n",
            "\n",
            "/usr/local/lib/python3.6/dist-packages/ipykernel_launcher.py:13: SettingWithCopyWarning:\n",
            "\n",
            "\n",
            "A value is trying to be set on a copy of a slice from a DataFrame.\n",
            "Try using .loc[row_indexer,col_indexer] = value instead\n",
            "\n",
            "See the caveats in the documentation: https://pandas.pydata.org/pandas-docs/stable/user_guide/indexing.html#returning-a-view-versus-a-copy\n",
            "\n",
            "/usr/local/lib/python3.6/dist-packages/ipykernel_launcher.py:14: SettingWithCopyWarning:\n",
            "\n",
            "\n",
            "A value is trying to be set on a copy of a slice from a DataFrame.\n",
            "Try using .loc[row_indexer,col_indexer] = value instead\n",
            "\n",
            "See the caveats in the documentation: https://pandas.pydata.org/pandas-docs/stable/user_guide/indexing.html#returning-a-view-versus-a-copy\n",
            "\n",
            "/usr/local/lib/python3.6/dist-packages/ipykernel_launcher.py:18: SettingWithCopyWarning:\n",
            "\n",
            "\n",
            "A value is trying to be set on a copy of a slice from a DataFrame.\n",
            "Try using .loc[row_indexer,col_indexer] = value instead\n",
            "\n",
            "See the caveats in the documentation: https://pandas.pydata.org/pandas-docs/stable/user_guide/indexing.html#returning-a-view-versus-a-copy\n",
            "\n",
            "/usr/local/lib/python3.6/dist-packages/ipykernel_launcher.py:19: SettingWithCopyWarning:\n",
            "\n",
            "\n",
            "A value is trying to be set on a copy of a slice from a DataFrame.\n",
            "Try using .loc[row_indexer,col_indexer] = value instead\n",
            "\n",
            "See the caveats in the documentation: https://pandas.pydata.org/pandas-docs/stable/user_guide/indexing.html#returning-a-view-versus-a-copy\n",
            "\n"
          ],
          "name": "stderr"
        },
        {
          "output_type": "execute_result",
          "data": {
            "text/html": [
              "<div>\n",
              "<style scoped>\n",
              "    .dataframe tbody tr th:only-of-type {\n",
              "        vertical-align: middle;\n",
              "    }\n",
              "\n",
              "    .dataframe tbody tr th {\n",
              "        vertical-align: top;\n",
              "    }\n",
              "\n",
              "    .dataframe thead th {\n",
              "        text-align: right;\n",
              "    }\n",
              "</style>\n",
              "<table border=\"1\" class=\"dataframe\">\n",
              "  <thead>\n",
              "    <tr style=\"text-align: right;\">\n",
              "      <th></th>\n",
              "      <th>bill_length_mm</th>\n",
              "      <th>bill_depth_mm</th>\n",
              "      <th>flipper_length_mm</th>\n",
              "      <th>body_mass_g</th>\n",
              "      <th>Adelie</th>\n",
              "      <th>Chinstrap</th>\n",
              "      <th>Gentoo</th>\n",
              "      <th>Torgersen</th>\n",
              "      <th>Biscoe</th>\n",
              "      <th>Dream</th>\n",
              "    </tr>\n",
              "  </thead>\n",
              "  <tbody>\n",
              "    <tr>\n",
              "      <th>30</th>\n",
              "      <td>-0.874211</td>\n",
              "      <td>-0.209109</td>\n",
              "      <td>-1.659961</td>\n",
              "      <td>-1.161316</td>\n",
              "      <td>1</td>\n",
              "      <td>0</td>\n",
              "      <td>0</td>\n",
              "      <td>0</td>\n",
              "      <td>1</td>\n",
              "      <td>0</td>\n",
              "    </tr>\n",
              "    <tr>\n",
              "      <th>317</th>\n",
              "      <td>0.510297</td>\n",
              "      <td>-1.294128</td>\n",
              "      <td>1.512657</td>\n",
              "      <td>0.826718</td>\n",
              "      <td>0</td>\n",
              "      <td>0</td>\n",
              "      <td>1</td>\n",
              "      <td>1</td>\n",
              "      <td>0</td>\n",
              "      <td>0</td>\n",
              "    </tr>\n",
              "    <tr>\n",
              "      <th>79</th>\n",
              "      <td>-0.387762</td>\n",
              "      <td>1.030912</td>\n",
              "      <td>-0.434177</td>\n",
              "      <td>-0.243762</td>\n",
              "      <td>1</td>\n",
              "      <td>0</td>\n",
              "      <td>0</td>\n",
              "      <td>0</td>\n",
              "      <td>0</td>\n",
              "      <td>1</td>\n",
              "    </tr>\n",
              "    <tr>\n",
              "      <th>201</th>\n",
              "      <td>1.052875</td>\n",
              "      <td>0.100896</td>\n",
              "      <td>-0.217862</td>\n",
              "      <td>-0.641369</td>\n",
              "      <td>0</td>\n",
              "      <td>1</td>\n",
              "      <td>0</td>\n",
              "      <td>0</td>\n",
              "      <td>1</td>\n",
              "      <td>0</td>\n",
              "    </tr>\n",
              "    <tr>\n",
              "      <th>63</th>\n",
              "      <td>-0.574857</td>\n",
              "      <td>0.565904</td>\n",
              "      <td>-0.650492</td>\n",
              "      <td>-0.182592</td>\n",
              "      <td>1</td>\n",
              "      <td>0</td>\n",
              "      <td>0</td>\n",
              "      <td>1</td>\n",
              "      <td>0</td>\n",
              "      <td>0</td>\n",
              "    </tr>\n",
              "  </tbody>\n",
              "</table>\n",
              "</div>"
            ],
            "text/plain": [
              "     bill_length_mm  bill_depth_mm  flipper_length_mm  ...  Torgersen  Biscoe  Dream\n",
              "30        -0.874211      -0.209109          -1.659961  ...          0       1      0\n",
              "317        0.510297      -1.294128           1.512657  ...          1       0      0\n",
              "79        -0.387762       1.030912          -0.434177  ...          0       0      1\n",
              "201        1.052875       0.100896          -0.217862  ...          0       1      0\n",
              "63        -0.574857       0.565904          -0.650492  ...          1       0      0\n",
              "\n",
              "[5 rows x 10 columns]"
            ]
          },
          "metadata": {
            "tags": []
          },
          "execution_count": 7
        }
      ]
    },
    {
      "cell_type": "markdown",
      "metadata": {
        "id": "uO3Q5mYNL-Mu"
      },
      "source": [
        "## Bernoulli Navie Bayes   \n"
      ]
    },
    {
      "cell_type": "markdown",
      "metadata": {
        "id": "jzy_aBo0NJzk"
      },
      "source": [
        "### Entrenamiento"
      ]
    },
    {
      "cell_type": "code",
      "metadata": {
        "id": "TRZt51ls9Ykg",
        "colab": {
          "base_uri": "https://localhost:8080/"
        },
        "outputId": "dded5cbe-30f4-4792-e749-c2ef0fa0c478"
      },
      "source": [
        "l=[]\n",
        "for i in range (0,20):\n",
        "  x= i/10\n",
        "  model = BernoulliNB(binarize=x)\n",
        "  model.fit(X_train, y_train)\n",
        "  trSc = model.score(X_train, y_train)\n",
        "  tsSc = model.score(X_test, y_test)\n",
        "  l.append([x,trSc,tsSc])\n",
        "  print(f'With binarize = {x}\\n train score: {trSc}, test score {tsSc}')"
      ],
      "execution_count": 8,
      "outputs": [
        {
          "output_type": "stream",
          "text": [
            "With binarize = 0.0\n",
            " train score: 0.6394849785407726, test score 0.62\n",
            "With binarize = 0.1\n",
            " train score: 0.6266094420600858, test score 0.6\n",
            "With binarize = 0.2\n",
            " train score: 0.6566523605150214, test score 0.6\n",
            "With binarize = 0.3\n",
            " train score: 0.6952789699570815, test score 0.66\n",
            "With binarize = 0.4\n",
            " train score: 0.721030042918455, test score 0.69\n",
            "With binarize = 0.5\n",
            " train score: 0.8111587982832618, test score 0.79\n",
            "With binarize = 0.6\n",
            " train score: 0.776824034334764, test score 0.72\n",
            "With binarize = 0.7\n",
            " train score: 0.8068669527896996, test score 0.77\n",
            "With binarize = 0.8\n",
            " train score: 0.8240343347639485, test score 0.76\n",
            "With binarize = 0.9\n",
            " train score: 0.8283261802575107, test score 0.79\n",
            "With binarize = 1.0\n",
            " train score: 0.8197424892703863, test score 0.77\n",
            "With binarize = 1.1\n",
            " train score: 0.7896995708154506, test score 0.7\n",
            "With binarize = 1.2\n",
            " train score: 0.7939914163090128, test score 0.74\n",
            "With binarize = 1.3\n",
            " train score: 0.7725321888412017, test score 0.71\n",
            "With binarize = 1.4\n",
            " train score: 0.7339055793991416, test score 0.7\n",
            "With binarize = 1.5\n",
            " train score: 0.6781115879828327, test score 0.66\n",
            "With binarize = 1.6\n",
            " train score: 0.648068669527897, test score 0.66\n",
            "With binarize = 1.7\n",
            " train score: 0.6137339055793991, test score 0.64\n",
            "With binarize = 1.8\n",
            " train score: 0.5965665236051502, test score 0.6\n",
            "With binarize = 1.9\n",
            " train score: 0.5708154506437768, test score 0.59\n"
          ],
          "name": "stdout"
        }
      ]
    },
    {
      "cell_type": "code",
      "metadata": {
        "id": "OnapTW5v_PrH",
        "colab": {
          "base_uri": "https://localhost:8080/",
          "height": 554
        },
        "outputId": "6c052e73-e391-45ad-a31b-f0cd8cd4e44d"
      },
      "source": [
        "l = np.array(l)\n",
        "fig, ax = plt.subplots(figsize = (16,9))\n",
        "plt.plot(l[:,0],l[:,1], color='darkcyan')\n",
        "plt.plot(l[:,0],l[:,2], color= 'palevioletred')"
      ],
      "execution_count": 9,
      "outputs": [
        {
          "output_type": "execute_result",
          "data": {
            "text/plain": [
              "[<matplotlib.lines.Line2D at 0x7f13b02d5be0>]"
            ]
          },
          "metadata": {
            "tags": []
          },
          "execution_count": 9
        },
        {
          "output_type": "display_data",
          "data": {
            "image/png": "[encoded data removed]",
            "text/plain": [
              "<Figure size 1152x648 with 1 Axes>"
            ]
          },
          "metadata": {
            "tags": [],
            "needs_background": "light"
          }
        }
      ]
    },
    {
      "cell_type": "code",
      "metadata": {
        "id": "hX092pAcD9lx",
        "colab": {
          "base_uri": "https://localhost:8080/"
        },
        "outputId": "f275eb39-98e4-4347-8099-c817961d6650"
      },
      "source": [
        "model = BernoulliNB(binarize=0.9, fit_prior=False)\n",
        "model.fit(X_train, y_train)\n",
        "trSc = model.score(X_train, y_train)\n",
        "tsSc = model.score(X_test, y_test)\n",
        "print(f'Train score: {trSc}\\n test score: {tsSc}')"
      ],
      "execution_count": 10,
      "outputs": [
        {
          "output_type": "stream",
          "text": [
            "Train score: 0.8283261802575107\n",
            " test score: 0.79\n"
          ],
          "name": "stdout"
        }
      ]
    },
    {
      "cell_type": "markdown",
      "metadata": {
        "id": "vBZ2Ry6JNOAU"
      },
      "source": [
        "### Estadísticas"
      ]
    },
    {
      "cell_type": "code",
      "metadata": {
        "colab": {
          "base_uri": "https://localhost:8080/",
          "height": 514
        },
        "id": "HwQhA0zUH2YJ",
        "outputId": "114bb17e-ec17-41c2-933f-b6c44882fe78"
      },
      "source": [
        "fpr, tpr, thresholds = roc_curve(y_test, list(model.predict_proba(X_test)[:,1]), drop_intermediate= False)\n",
        "df_roc = pd.DataFrame({'fpr':fpr, 'tpr':tpr, 'threshold':thresholds})\n",
        "df_roc"
      ],
      "execution_count": 11,
      "outputs": [
        {
          "output_type": "execute_result",
          "data": {
            "text/html": [
              "<div>\n",
              "<style scoped>\n",
              "    .dataframe tbody tr th:only-of-type {\n",
              "        vertical-align: middle;\n",
              "    }\n",
              "\n",
              "    .dataframe tbody tr th {\n",
              "        vertical-align: top;\n",
              "    }\n",
              "\n",
              "    .dataframe thead th {\n",
              "        text-align: right;\n",
              "    }\n",
              "</style>\n",
              "<table border=\"1\" class=\"dataframe\">\n",
              "  <thead>\n",
              "    <tr style=\"text-align: right;\">\n",
              "      <th></th>\n",
              "      <th>fpr</th>\n",
              "      <th>tpr</th>\n",
              "      <th>threshold</th>\n",
              "    </tr>\n",
              "  </thead>\n",
              "  <tbody>\n",
              "    <tr>\n",
              "      <th>0</th>\n",
              "      <td>0.000000</td>\n",
              "      <td>0.000000</td>\n",
              "      <td>1.983335</td>\n",
              "    </tr>\n",
              "    <tr>\n",
              "      <th>1</th>\n",
              "      <td>0.000000</td>\n",
              "      <td>0.230769</td>\n",
              "      <td>0.983335</td>\n",
              "    </tr>\n",
              "    <tr>\n",
              "      <th>2</th>\n",
              "      <td>0.000000</td>\n",
              "      <td>0.346154</td>\n",
              "      <td>0.961465</td>\n",
              "    </tr>\n",
              "    <tr>\n",
              "      <th>3</th>\n",
              "      <td>0.020833</td>\n",
              "      <td>0.442308</td>\n",
              "      <td>0.833765</td>\n",
              "    </tr>\n",
              "    <tr>\n",
              "      <th>4</th>\n",
              "      <td>0.062500</td>\n",
              "      <td>0.519231</td>\n",
              "      <td>0.702108</td>\n",
              "    </tr>\n",
              "    <tr>\n",
              "      <th>5</th>\n",
              "      <td>0.125000</td>\n",
              "      <td>0.576923</td>\n",
              "      <td>0.690216</td>\n",
              "    </tr>\n",
              "    <tr>\n",
              "      <th>6</th>\n",
              "      <td>0.145833</td>\n",
              "      <td>0.634615</td>\n",
              "      <td>0.686745</td>\n",
              "    </tr>\n",
              "    <tr>\n",
              "      <th>7</th>\n",
              "      <td>0.166667</td>\n",
              "      <td>0.769231</td>\n",
              "      <td>0.677517</td>\n",
              "    </tr>\n",
              "    <tr>\n",
              "      <th>8</th>\n",
              "      <td>0.187500</td>\n",
              "      <td>0.769231</td>\n",
              "      <td>0.610882</td>\n",
              "    </tr>\n",
              "    <tr>\n",
              "      <th>9</th>\n",
              "      <td>0.333333</td>\n",
              "      <td>0.769231</td>\n",
              "      <td>0.445238</td>\n",
              "    </tr>\n",
              "    <tr>\n",
              "      <th>10</th>\n",
              "      <td>0.500000</td>\n",
              "      <td>0.769231</td>\n",
              "      <td>0.200775</td>\n",
              "    </tr>\n",
              "    <tr>\n",
              "      <th>11</th>\n",
              "      <td>0.583333</td>\n",
              "      <td>0.846154</td>\n",
              "      <td>0.173877</td>\n",
              "    </tr>\n",
              "    <tr>\n",
              "      <th>12</th>\n",
              "      <td>0.729167</td>\n",
              "      <td>0.942308</td>\n",
              "      <td>0.163720</td>\n",
              "    </tr>\n",
              "    <tr>\n",
              "      <th>13</th>\n",
              "      <td>0.833333</td>\n",
              "      <td>0.961538</td>\n",
              "      <td>0.159229</td>\n",
              "    </tr>\n",
              "    <tr>\n",
              "      <th>14</th>\n",
              "      <td>1.000000</td>\n",
              "      <td>1.000000</td>\n",
              "      <td>0.157976</td>\n",
              "    </tr>\n",
              "  </tbody>\n",
              "</table>\n",
              "</div>"
            ],
            "text/plain": [
              "         fpr       tpr  threshold\n",
              "0   0.000000  0.000000   1.983335\n",
              "1   0.000000  0.230769   0.983335\n",
              "2   0.000000  0.346154   0.961465\n",
              "3   0.020833  0.442308   0.833765\n",
              "4   0.062500  0.519231   0.702108\n",
              "5   0.125000  0.576923   0.690216\n",
              "6   0.145833  0.634615   0.686745\n",
              "7   0.166667  0.769231   0.677517\n",
              "8   0.187500  0.769231   0.610882\n",
              "9   0.333333  0.769231   0.445238\n",
              "10  0.500000  0.769231   0.200775\n",
              "11  0.583333  0.846154   0.173877\n",
              "12  0.729167  0.942308   0.163720\n",
              "13  0.833333  0.961538   0.159229\n",
              "14  1.000000  1.000000   0.157976"
            ]
          },
          "metadata": {
            "tags": []
          },
          "execution_count": 11
        }
      ]
    },
    {
      "cell_type": "code",
      "metadata": {
        "colab": {
          "base_uri": "https://localhost:8080/",
          "height": 542
        },
        "id": "VHg-Ya-wH9z3",
        "outputId": "a5457ad5-0419-4f3e-dce8-09495595cd78"
      },
      "source": [
        "fig = px.line(df_roc, x='fpr', y='tpr', hover_data=['threshold'])\n",
        "fig.show()"
      ],
      "execution_count": 12,
      "outputs": [
        {
          "output_type": "display_data",
          "data": {
            "text/html": [
              "<html>\n",
              "<head><meta charset=\"utf-8\" /></head>\n",
              "<body>\n",
              "    <div>\n",
              "            <script src=\"https://cdnjs.cloudflare.com/ajax/libs/mathjax/2.7.5/MathJax.js?config=TeX-AMS-MML_SVG\"></script><script type=\"text/javascript\">if (window.MathJax) {MathJax.Hub.Config({SVG: {font: \"STIX-Web\"}});}</script>\n",
              "                <script type=\"text/javascript\">window.PlotlyConfig = {MathJaxConfig: 'local'};</script>\n",
              "        <script src=\"https://cdn.plot.ly/plotly-latest.min.js\"></script>    \n",
              "            <div id=\"d54f5eb7-5ea6-4ee9-995d-f51c9e341151\" class=\"plotly-graph-div\" style=\"height:525px; width:100%;\"></div>\n",
              "            <script type=\"text/javascript\">\n",
              "                \n",
              "                    window.PLOTLYENV=window.PLOTLYENV || {};\n",
              "                    \n",
              "                if (document.getElementById(\"d54f5eb7-5ea6-4ee9-995d-f51c9e341151\")) {\n",
              "                    Plotly.newPlot(\n",
              "                        'd54f5eb7-5ea6-4ee9-995d-f51c9e341151',\n",
              "                        [{\"customdata\": [[1.9833351710695788], [0.9833351710695788], [0.9614646203948901], [0.8337645041379266], [0.7021076497562422], [0.6902157425925697], [0.6867448515127], [0.6775172100244863], [0.6108815891256807], [0.44523824488854896], [0.20077536668251042], [0.17387659621847099], [0.1637196908610323], [0.15922899942210364], [0.15797569255635943]], \"hoverlabel\": {\"namelength\": 0}, \"hovertemplate\": \"fpr=%{x}<br>tpr=%{y}<br>threshold=%{customdata[0]}\", \"legendgroup\": \"\", \"line\": {\"color\": \"#636efa\", \"dash\": \"solid\"}, \"mode\": \"lines\", \"name\": \"\", \"showlegend\": false, \"type\": \"scatter\", \"x\": [0.0, 0.0, 0.0, 0.020833333333333332, 0.0625, 0.125, 0.14583333333333334, 0.16666666666666666, 0.1875, 0.3333333333333333, 0.5, 0.5833333333333334, 0.7291666666666666, 0.8333333333333334, 1.0], \"xaxis\": \"x\", \"y\": [0.0, 0.23076923076923078, 0.34615384615384615, 0.4423076923076923, 0.5192307692307693, 0.5769230769230769, 0.6346153846153846, 0.7692307692307693, 0.7692307692307693, 0.7692307692307693, 0.7692307692307693, 0.8461538461538461, 0.9423076923076923, 0.9615384615384616, 1.0], \"yaxis\": \"y\"}],\n",
              "                        {\"legend\": {\"tracegroupgap\": 0}, \"margin\": {\"t\": 60}, \"template\": {\"data\": {\"bar\": [{\"error_x\": {\"color\": \"#2a3f5f\"}, \"error_y\": {\"color\": \"#2a3f5f\"}, \"marker\": {\"line\": {\"color\": \"#E5ECF6\", \"width\": 0.5}}, \"type\": \"bar\"}], \"barpolar\": [{\"marker\": {\"line\": {\"color\": \"#E5ECF6\", \"width\": 0.5}}, \"type\": \"barpolar\"}], \"carpet\": [{\"aaxis\": {\"endlinecolor\": \"#2a3f5f\", \"gridcolor\": \"white\", \"linecolor\": \"white\", \"minorgridcolor\": \"white\", \"startlinecolor\": \"#2a3f5f\"}, \"baxis\": {\"endlinecolor\": \"#2a3f5f\", \"gridcolor\": \"white\", \"linecolor\": \"white\", \"minorgridcolor\": \"white\", \"startlinecolor\": \"#2a3f5f\"}, \"type\": \"carpet\"}], \"choropleth\": [{\"colorbar\": {\"outlinewidth\": 0, \"ticks\": \"\"}, \"type\": \"choropleth\"}], \"contour\": [{\"colorbar\": {\"outlinewidth\": 0, \"ticks\": \"\"}, \"colorscale\": [[0.0, \"#0d0887\"], [0.1111111111111111, \"#46039f\"], [0.2222222222222222, \"#7201a8\"], [0.3333333333333333, \"#9c179e\"], [0.4444444444444444, \"#bd3786\"], [0.5555555555555556, \"#d8576b\"], [0.6666666666666666, \"#ed7953\"], [0.7777777777777778, \"#fb9f3a\"], [0.8888888888888888, \"#fdca26\"], [1.0, \"#f0f921\"]], \"type\": \"contour\"}], \"contourcarpet\": [{\"colorbar\": {\"outlinewidth\": 0, \"ticks\": \"\"}, \"type\": \"contourcarpet\"}], \"heatmap\": [{\"colorbar\": {\"outlinewidth\": 0, \"ticks\": \"\"}, \"colorscale\": [[0.0, \"#0d0887\"], [0.1111111111111111, \"#46039f\"], [0.2222222222222222, \"#7201a8\"], [0.3333333333333333, \"#9c179e\"], [0.4444444444444444, \"#bd3786\"], [0.5555555555555556, \"#d8576b\"], [0.6666666666666666, \"#ed7953\"], [0.7777777777777778, \"#fb9f3a\"], [0.8888888888888888, \"#fdca26\"], [1.0, \"#f0f921\"]], \"type\": \"heatmap\"}], \"heatmapgl\": [{\"colorbar\": {\"outlinewidth\": 0, \"ticks\": \"\"}, \"colorscale\": [[0.0, \"#0d0887\"], [0.1111111111111111, \"#46039f\"], [0.2222222222222222, \"#7201a8\"], [0.3333333333333333, \"#9c179e\"], [0.4444444444444444, \"#bd3786\"], [0.5555555555555556, \"#d8576b\"], [0.6666666666666666, \"#ed7953\"], [0.7777777777777778, \"#fb9f3a\"], [0.8888888888888888, \"#fdca26\"], [1.0, \"#f0f921\"]], \"type\": \"heatmapgl\"}], \"histogram\": [{\"marker\": {\"colorbar\": {\"outlinewidth\": 0, \"ticks\": \"\"}}, \"type\": \"histogram\"}], \"histogram2d\": [{\"colorbar\": {\"outlinewidth\": 0, \"ticks\": \"\"}, \"colorscale\": [[0.0, \"#0d0887\"], [0.1111111111111111, \"#46039f\"], [0.2222222222222222, \"#7201a8\"], [0.3333333333333333, \"#9c179e\"], [0.4444444444444444, \"#bd3786\"], [0.5555555555555556, \"#d8576b\"], [0.6666666666666666, \"#ed7953\"], [0.7777777777777778, \"#fb9f3a\"], [0.8888888888888888, \"#fdca26\"], [1.0, \"#f0f921\"]], \"type\": \"histogram2d\"}], \"histogram2dcontour\": [{\"colorbar\": {\"outlinewidth\": 0, \"ticks\": \"\"}, \"colorscale\": [[0.0, \"#0d0887\"], [0.1111111111111111, \"#46039f\"], [0.2222222222222222, \"#7201a8\"], [0.3333333333333333, \"#9c179e\"], [0.4444444444444444, \"#bd3786\"], [0.5555555555555556, \"#d8576b\"], [0.6666666666666666, \"#ed7953\"], [0.7777777777777778, \"#fb9f3a\"], [0.8888888888888888, \"#fdca26\"], [1.0, \"#f0f921\"]], \"type\": \"histogram2dcontour\"}], \"mesh3d\": [{\"colorbar\": {\"outlinewidth\": 0, \"ticks\": \"\"}, \"type\": \"mesh3d\"}], \"parcoords\": [{\"line\": {\"colorbar\": {\"outlinewidth\": 0, \"ticks\": \"\"}}, \"type\": \"parcoords\"}], \"pie\": [{\"automargin\": true, \"type\": \"pie\"}], \"scatter\": [{\"marker\": {\"colorbar\": {\"outlinewidth\": 0, \"ticks\": \"\"}}, \"type\": \"scatter\"}], \"scatter3d\": [{\"line\": {\"colorbar\": {\"outlinewidth\": 0, \"ticks\": \"\"}}, \"marker\": {\"colorbar\": {\"outlinewidth\": 0, \"ticks\": \"\"}}, \"type\": \"scatter3d\"}], \"scattercarpet\": [{\"marker\": {\"colorbar\": {\"outlinewidth\": 0, \"ticks\": \"\"}}, \"type\": \"scattercarpet\"}], \"scattergeo\": [{\"marker\": {\"colorbar\": {\"outlinewidth\": 0, \"ticks\": \"\"}}, \"type\": \"scattergeo\"}], \"scattergl\": [{\"marker\": {\"colorbar\": {\"outlinewidth\": 0, \"ticks\": \"\"}}, \"type\": \"scattergl\"}], \"scattermapbox\": [{\"marker\": {\"colorbar\": {\"outlinewidth\": 0, \"ticks\": \"\"}}, \"type\": \"scattermapbox\"}], \"scatterpolar\": [{\"marker\": {\"colorbar\": {\"outlinewidth\": 0, \"ticks\": \"\"}}, \"type\": \"scatterpolar\"}], \"scatterpolargl\": [{\"marker\": {\"colorbar\": {\"outlinewidth\": 0, \"ticks\": \"\"}}, \"type\": \"scatterpolargl\"}], \"scatterternary\": [{\"marker\": {\"colorbar\": {\"outlinewidth\": 0, \"ticks\": \"\"}}, \"type\": \"scatterternary\"}], \"surface\": [{\"colorbar\": {\"outlinewidth\": 0, \"ticks\": \"\"}, \"colorscale\": [[0.0, \"#0d0887\"], [0.1111111111111111, \"#46039f\"], [0.2222222222222222, \"#7201a8\"], [0.3333333333333333, \"#9c179e\"], [0.4444444444444444, \"#bd3786\"], [0.5555555555555556, \"#d8576b\"], [0.6666666666666666, \"#ed7953\"], [0.7777777777777778, \"#fb9f3a\"], [0.8888888888888888, \"#fdca26\"], [1.0, \"#f0f921\"]], \"type\": \"surface\"}], \"table\": [{\"cells\": {\"fill\": {\"color\": \"#EBF0F8\"}, \"line\": {\"color\": \"white\"}}, \"header\": {\"fill\": {\"color\": \"#C8D4E3\"}, \"line\": {\"color\": \"white\"}}, \"type\": \"table\"}]}, \"layout\": {\"annotationdefaults\": {\"arrowcolor\": \"#2a3f5f\", \"arrowhead\": 0, \"arrowwidth\": 1}, \"coloraxis\": {\"colorbar\": {\"outlinewidth\": 0, \"ticks\": \"\"}}, \"colorscale\": {\"diverging\": [[0, \"#8e0152\"], [0.1, \"#c51b7d\"], [0.2, \"#de77ae\"], [0.3, \"#f1b6da\"], [0.4, \"#fde0ef\"], [0.5, \"#f7f7f7\"], [0.6, \"#e6f5d0\"], [0.7, \"#b8e186\"], [0.8, \"#7fbc41\"], [0.9, \"#4d9221\"], [1, \"#276419\"]], \"sequential\": [[0.0, \"#0d0887\"], [0.1111111111111111, \"#46039f\"], [0.2222222222222222, \"#7201a8\"], [0.3333333333333333, \"#9c179e\"], [0.4444444444444444, \"#bd3786\"], [0.5555555555555556, \"#d8576b\"], [0.6666666666666666, \"#ed7953\"], [0.7777777777777778, \"#fb9f3a\"], [0.8888888888888888, \"#fdca26\"], [1.0, \"#f0f921\"]], \"sequentialminus\": [[0.0, \"#0d0887\"], [0.1111111111111111, \"#46039f\"], [0.2222222222222222, \"#7201a8\"], [0.3333333333333333, \"#9c179e\"], [0.4444444444444444, \"#bd3786\"], [0.5555555555555556, \"#d8576b\"], [0.6666666666666666, \"#ed7953\"], [0.7777777777777778, \"#fb9f3a\"], [0.8888888888888888, \"#fdca26\"], [1.0, \"#f0f921\"]]}, \"colorway\": [\"#636efa\", \"#EF553B\", \"#00cc96\", \"#ab63fa\", \"#FFA15A\", \"#19d3f3\", \"#FF6692\", \"#B6E880\", \"#FF97FF\", \"#FECB52\"], \"font\": {\"color\": \"#2a3f5f\"}, \"geo\": {\"bgcolor\": \"white\", \"lakecolor\": \"white\", \"landcolor\": \"#E5ECF6\", \"showlakes\": true, \"showland\": true, \"subunitcolor\": \"white\"}, \"hoverlabel\": {\"align\": \"left\"}, \"hovermode\": \"closest\", \"mapbox\": {\"style\": \"light\"}, \"paper_bgcolor\": \"white\", \"plot_bgcolor\": \"#E5ECF6\", \"polar\": {\"angularaxis\": {\"gridcolor\": \"white\", \"linecolor\": \"white\", \"ticks\": \"\"}, \"bgcolor\": \"#E5ECF6\", \"radialaxis\": {\"gridcolor\": \"white\", \"linecolor\": \"white\", \"ticks\": \"\"}}, \"scene\": {\"xaxis\": {\"backgroundcolor\": \"#E5ECF6\", \"gridcolor\": \"white\", \"gridwidth\": 2, \"linecolor\": \"white\", \"showbackground\": true, \"ticks\": \"\", \"zerolinecolor\": \"white\"}, \"yaxis\": {\"backgroundcolor\": \"#E5ECF6\", \"gridcolor\": \"white\", \"gridwidth\": 2, \"linecolor\": \"white\", \"showbackground\": true, \"ticks\": \"\", \"zerolinecolor\": \"white\"}, \"zaxis\": {\"backgroundcolor\": \"#E5ECF6\", \"gridcolor\": \"white\", \"gridwidth\": 2, \"linecolor\": \"white\", \"showbackground\": true, \"ticks\": \"\", \"zerolinecolor\": \"white\"}}, \"shapedefaults\": {\"line\": {\"color\": \"#2a3f5f\"}}, \"ternary\": {\"aaxis\": {\"gridcolor\": \"white\", \"linecolor\": \"white\", \"ticks\": \"\"}, \"baxis\": {\"gridcolor\": \"white\", \"linecolor\": \"white\", \"ticks\": \"\"}, \"bgcolor\": \"#E5ECF6\", \"caxis\": {\"gridcolor\": \"white\", \"linecolor\": \"white\", \"ticks\": \"\"}}, \"title\": {\"x\": 0.05}, \"xaxis\": {\"automargin\": true, \"gridcolor\": \"white\", \"linecolor\": \"white\", \"ticks\": \"\", \"title\": {\"standoff\": 15}, \"zerolinecolor\": \"white\", \"zerolinewidth\": 2}, \"yaxis\": {\"automargin\": true, \"gridcolor\": \"white\", \"linecolor\": \"white\", \"ticks\": \"\", \"title\": {\"standoff\": 15}, \"zerolinecolor\": \"white\", \"zerolinewidth\": 2}}}, \"xaxis\": {\"anchor\": \"y\", \"domain\": [0.0, 1.0], \"title\": {\"text\": \"fpr\"}}, \"yaxis\": {\"anchor\": \"x\", \"domain\": [0.0, 1.0], \"title\": {\"text\": \"tpr\"}}},\n",
              "                        {\"responsive\": true}\n",
              "                    ).then(function(){\n",
              "                            \n",
              "var gd = document.getElementById('d54f5eb7-5ea6-4ee9-995d-f51c9e341151');\n",
              "var x = new MutationObserver(function (mutations, observer) {{\n",
              "        var display = window.getComputedStyle(gd).display;\n",
              "        if (!display || display === 'none') {{\n",
              "            console.log([gd, 'removed!']);\n",
              "            Plotly.purge(gd);\n",
              "            observer.disconnect();\n",
              "        }}\n",
              "}});\n",
              "\n",
              "// Listen for the removal of the full notebook cells\n",
              "var notebookContainer = gd.closest('#notebook-container');\n",
              "if (notebookContainer) {{\n",
              "    x.observe(notebookContainer, {childList: true});\n",
              "}}\n",
              "\n",
              "// Listen for the clearing of the current output cell\n",
              "var outputEl = gd.closest('.output');\n",
              "if (outputEl) {{\n",
              "    x.observe(outputEl, {childList: true});\n",
              "}}\n",
              "\n",
              "                        })\n",
              "                };\n",
              "                \n",
              "            </script>\n",
              "        </div>\n",
              "</body>\n",
              "</html>"
            ]
          },
          "metadata": {
            "tags": []
          }
        }
      ]
    },
    {
      "cell_type": "code",
      "metadata": {
        "colab": {
          "base_uri": "https://localhost:8080/"
        },
        "id": "bMC-jYENITNs",
        "outputId": "170d82b4-5830-4994-d2e6-8347b015c084"
      },
      "source": [
        "auc(fpr,tpr)"
      ],
      "execution_count": 13,
      "outputs": [
        {
          "output_type": "execute_result",
          "data": {
            "text/plain": [
              "0.8064903846153847"
            ]
          },
          "metadata": {
            "tags": []
          },
          "execution_count": 13
        }
      ]
    },
    {
      "cell_type": "code",
      "metadata": {
        "id": "wU9dpOPNNjwI"
      },
      "source": [
        "predpr = model.predict_proba(X_test)[:,1]"
      ],
      "execution_count": 14,
      "outputs": []
    },
    {
      "cell_type": "code",
      "metadata": {
        "colab": {
          "base_uri": "https://localhost:8080/"
        },
        "id": "apSnHRUCNjwJ",
        "outputId": "382b75d4-ef7e-416c-dd6c-9d6d6544e539"
      },
      "source": [
        "l = []\n",
        "for j in range(100):\n",
        "  x = j/100\n",
        "  rl = []\n",
        "  for i in predpr:\n",
        "    if i > x:\n",
        "      rl.append(1)\n",
        "    else:\n",
        "      rl.append(0)\n",
        "  bl =[]\n",
        "  for i in range(len(rl)):\n",
        "    if rl[i] == y_test.iloc[i]:\n",
        "      bl.append(True)\n",
        "    else:\n",
        "      bl.append(False)\n",
        "  l.append([x,sum(bl) / len(bl)])\n",
        "  print( f' With threshold {x} the predictions are {sum(bl) / len(bl)} accurate')"
      ],
      "execution_count": 15,
      "outputs": [
        {
          "output_type": "stream",
          "text": [
            " With threshold 0.0 the predictions are 0.52 accurate\n",
            " With threshold 0.01 the predictions are 0.52 accurate\n",
            " With threshold 0.02 the predictions are 0.52 accurate\n",
            " With threshold 0.03 the predictions are 0.52 accurate\n",
            " With threshold 0.04 the predictions are 0.52 accurate\n",
            " With threshold 0.05 the predictions are 0.52 accurate\n",
            " With threshold 0.06 the predictions are 0.52 accurate\n",
            " With threshold 0.07 the predictions are 0.52 accurate\n",
            " With threshold 0.08 the predictions are 0.52 accurate\n",
            " With threshold 0.09 the predictions are 0.52 accurate\n",
            " With threshold 0.1 the predictions are 0.52 accurate\n",
            " With threshold 0.11 the predictions are 0.52 accurate\n",
            " With threshold 0.12 the predictions are 0.52 accurate\n",
            " With threshold 0.13 the predictions are 0.52 accurate\n",
            " With threshold 0.14 the predictions are 0.52 accurate\n",
            " With threshold 0.15 the predictions are 0.52 accurate\n",
            " With threshold 0.16 the predictions are 0.62 accurate\n",
            " With threshold 0.17 the predictions are 0.64 accurate\n",
            " With threshold 0.18 the predictions are 0.64 accurate\n",
            " With threshold 0.19 the predictions are 0.64 accurate\n",
            " With threshold 0.2 the predictions are 0.64 accurate\n",
            " With threshold 0.21 the predictions are 0.72 accurate\n",
            " With threshold 0.22 the predictions are 0.72 accurate\n",
            " With threshold 0.23 the predictions are 0.72 accurate\n",
            " With threshold 0.24 the predictions are 0.72 accurate\n",
            " With threshold 0.25 the predictions are 0.72 accurate\n",
            " With threshold 0.26 the predictions are 0.72 accurate\n",
            " With threshold 0.27 the predictions are 0.72 accurate\n",
            " With threshold 0.28 the predictions are 0.72 accurate\n",
            " With threshold 0.29 the predictions are 0.72 accurate\n",
            " With threshold 0.3 the predictions are 0.72 accurate\n",
            " With threshold 0.31 the predictions are 0.72 accurate\n",
            " With threshold 0.32 the predictions are 0.72 accurate\n",
            " With threshold 0.33 the predictions are 0.72 accurate\n",
            " With threshold 0.34 the predictions are 0.72 accurate\n",
            " With threshold 0.35 the predictions are 0.72 accurate\n",
            " With threshold 0.36 the predictions are 0.72 accurate\n",
            " With threshold 0.37 the predictions are 0.72 accurate\n",
            " With threshold 0.38 the predictions are 0.72 accurate\n",
            " With threshold 0.39 the predictions are 0.72 accurate\n",
            " With threshold 0.4 the predictions are 0.72 accurate\n",
            " With threshold 0.41 the predictions are 0.72 accurate\n",
            " With threshold 0.42 the predictions are 0.72 accurate\n",
            " With threshold 0.43 the predictions are 0.72 accurate\n",
            " With threshold 0.44 the predictions are 0.72 accurate\n",
            " With threshold 0.45 the predictions are 0.79 accurate\n",
            " With threshold 0.46 the predictions are 0.79 accurate\n",
            " With threshold 0.47 the predictions are 0.79 accurate\n",
            " With threshold 0.48 the predictions are 0.79 accurate\n",
            " With threshold 0.49 the predictions are 0.79 accurate\n",
            " With threshold 0.5 the predictions are 0.79 accurate\n",
            " With threshold 0.51 the predictions are 0.79 accurate\n",
            " With threshold 0.52 the predictions are 0.79 accurate\n",
            " With threshold 0.53 the predictions are 0.79 accurate\n",
            " With threshold 0.54 the predictions are 0.79 accurate\n",
            " With threshold 0.55 the predictions are 0.79 accurate\n",
            " With threshold 0.56 the predictions are 0.79 accurate\n",
            " With threshold 0.57 the predictions are 0.79 accurate\n",
            " With threshold 0.58 the predictions are 0.79 accurate\n",
            " With threshold 0.59 the predictions are 0.79 accurate\n",
            " With threshold 0.6 the predictions are 0.79 accurate\n",
            " With threshold 0.61 the predictions are 0.79 accurate\n",
            " With threshold 0.62 the predictions are 0.8 accurate\n",
            " With threshold 0.63 the predictions are 0.8 accurate\n",
            " With threshold 0.64 the predictions are 0.8 accurate\n",
            " With threshold 0.65 the predictions are 0.8 accurate\n",
            " With threshold 0.66 the predictions are 0.8 accurate\n",
            " With threshold 0.67 the predictions are 0.8 accurate\n",
            " With threshold 0.68 the predictions are 0.74 accurate\n",
            " With threshold 0.69 the predictions are 0.72 accurate\n",
            " With threshold 0.7 the predictions are 0.72 accurate\n",
            " With threshold 0.71 the predictions are 0.7 accurate\n",
            " With threshold 0.72 the predictions are 0.7 accurate\n",
            " With threshold 0.73 the predictions are 0.7 accurate\n",
            " With threshold 0.74 the predictions are 0.7 accurate\n",
            " With threshold 0.75 the predictions are 0.7 accurate\n",
            " With threshold 0.76 the predictions are 0.7 accurate\n",
            " With threshold 0.77 the predictions are 0.7 accurate\n",
            " With threshold 0.78 the predictions are 0.7 accurate\n",
            " With threshold 0.79 the predictions are 0.7 accurate\n",
            " With threshold 0.8 the predictions are 0.7 accurate\n",
            " With threshold 0.81 the predictions are 0.7 accurate\n",
            " With threshold 0.82 the predictions are 0.7 accurate\n",
            " With threshold 0.83 the predictions are 0.7 accurate\n",
            " With threshold 0.84 the predictions are 0.66 accurate\n",
            " With threshold 0.85 the predictions are 0.66 accurate\n",
            " With threshold 0.86 the predictions are 0.66 accurate\n",
            " With threshold 0.87 the predictions are 0.66 accurate\n",
            " With threshold 0.88 the predictions are 0.66 accurate\n",
            " With threshold 0.89 the predictions are 0.66 accurate\n",
            " With threshold 0.9 the predictions are 0.66 accurate\n",
            " With threshold 0.91 the predictions are 0.66 accurate\n",
            " With threshold 0.92 the predictions are 0.66 accurate\n",
            " With threshold 0.93 the predictions are 0.66 accurate\n",
            " With threshold 0.94 the predictions are 0.66 accurate\n",
            " With threshold 0.95 the predictions are 0.66 accurate\n",
            " With threshold 0.96 the predictions are 0.66 accurate\n",
            " With threshold 0.97 the predictions are 0.6 accurate\n",
            " With threshold 0.98 the predictions are 0.6 accurate\n",
            " With threshold 0.99 the predictions are 0.48 accurate\n"
          ],
          "name": "stdout"
        }
      ]
    },
    {
      "cell_type": "code",
      "metadata": {
        "colab": {
          "base_uri": "https://localhost:8080/",
          "height": 554
        },
        "id": "dDxvvW5CNjwL",
        "outputId": "e8d4227d-5d83-41f5-98d1-eee6cc2eb565"
      },
      "source": [
        "l = np.array(l)\n",
        "fig, ax = plt.subplots(figsize = (16,9))\n",
        "plt.plot(l[:,0],l[:,1])"
      ],
      "execution_count": 16,
      "outputs": [
        {
          "output_type": "execute_result",
          "data": {
            "text/plain": [
              "[<matplotlib.lines.Line2D at 0x7f13ae901438>]"
            ]
          },
          "metadata": {
            "tags": []
          },
          "execution_count": 16
        },
        {
          "output_type": "display_data",
          "data": {
            "image/png": "[encoded data removed]",
            "text/plain": [
              "<Figure size 1152x648 with 1 Axes>"
            ]
          },
          "metadata": {
            "tags": [],
            "needs_background": "light"
          }
        }
      ]
    },
    {
      "cell_type": "markdown",
      "metadata": {
        "id": "R0Cwp8ABNwN1"
      },
      "source": [
        "El threshold que nos da mejor resultado es: 0.64"
      ]
    },
    {
      "cell_type": "markdown",
      "metadata": {
        "id": "gW5W96gSMZfk"
      },
      "source": [
        "## Categorical Navie Baies"
      ]
    },
    {
      "cell_type": "code",
      "metadata": {
        "colab": {
          "base_uri": "https://localhost:8080/",
          "height": 204
        },
        "id": "Zse2C09CoiST",
        "outputId": "eb1bbcac-86a7-4445-9a39-7bc793b58310"
      },
      "source": [
        "X_train.head()"
      ],
      "execution_count": 17,
      "outputs": [
        {
          "output_type": "execute_result",
          "data": {
            "text/html": [
              "<div>\n",
              "<style scoped>\n",
              "    .dataframe tbody tr th:only-of-type {\n",
              "        vertical-align: middle;\n",
              "    }\n",
              "\n",
              "    .dataframe tbody tr th {\n",
              "        vertical-align: top;\n",
              "    }\n",
              "\n",
              "    .dataframe thead th {\n",
              "        text-align: right;\n",
              "    }\n",
              "</style>\n",
              "<table border=\"1\" class=\"dataframe\">\n",
              "  <thead>\n",
              "    <tr style=\"text-align: right;\">\n",
              "      <th></th>\n",
              "      <th>bill_length_mm</th>\n",
              "      <th>bill_depth_mm</th>\n",
              "      <th>flipper_length_mm</th>\n",
              "      <th>body_mass_g</th>\n",
              "      <th>Adelie</th>\n",
              "      <th>Chinstrap</th>\n",
              "      <th>Gentoo</th>\n",
              "      <th>Torgersen</th>\n",
              "      <th>Biscoe</th>\n",
              "      <th>Dream</th>\n",
              "    </tr>\n",
              "  </thead>\n",
              "  <tbody>\n",
              "    <tr>\n",
              "      <th>27</th>\n",
              "      <td>-0.687115</td>\n",
              "      <td>0.410901</td>\n",
              "      <td>-1.011017</td>\n",
              "      <td>-1.222487</td>\n",
              "      <td>1</td>\n",
              "      <td>0</td>\n",
              "      <td>0</td>\n",
              "      <td>1</td>\n",
              "      <td>0</td>\n",
              "      <td>0</td>\n",
              "    </tr>\n",
              "    <tr>\n",
              "      <th>292</th>\n",
              "      <td>0.753522</td>\n",
              "      <td>-0.777453</td>\n",
              "      <td>1.440552</td>\n",
              "      <td>1.101984</td>\n",
              "      <td>0</td>\n",
              "      <td>0</td>\n",
              "      <td>1</td>\n",
              "      <td>1</td>\n",
              "      <td>0</td>\n",
              "      <td>0</td>\n",
              "    </tr>\n",
              "    <tr>\n",
              "      <th>302</th>\n",
              "      <td>0.603845</td>\n",
              "      <td>-1.294128</td>\n",
              "      <td>0.791607</td>\n",
              "      <td>0.643207</td>\n",
              "      <td>0</td>\n",
              "      <td>0</td>\n",
              "      <td>1</td>\n",
              "      <td>1</td>\n",
              "      <td>0</td>\n",
              "      <td>0</td>\n",
              "    </tr>\n",
              "    <tr>\n",
              "      <th>62</th>\n",
              "      <td>-1.229692</td>\n",
              "      <td>-0.054107</td>\n",
              "      <td>-1.155227</td>\n",
              "      <td>-0.733124</td>\n",
              "      <td>1</td>\n",
              "      <td>0</td>\n",
              "      <td>0</td>\n",
              "      <td>1</td>\n",
              "      <td>0</td>\n",
              "      <td>0</td>\n",
              "    </tr>\n",
              "    <tr>\n",
              "      <th>181</th>\n",
              "      <td>1.614162</td>\n",
              "      <td>1.495920</td>\n",
              "      <td>0.286873</td>\n",
              "      <td>0.429111</td>\n",
              "      <td>0</td>\n",
              "      <td>1</td>\n",
              "      <td>0</td>\n",
              "      <td>0</td>\n",
              "      <td>1</td>\n",
              "      <td>0</td>\n",
              "    </tr>\n",
              "  </tbody>\n",
              "</table>\n",
              "</div>"
            ],
            "text/plain": [
              "     bill_length_mm  bill_depth_mm  flipper_length_mm  ...  Torgersen  Biscoe  Dream\n",
              "27        -0.687115       0.410901          -1.011017  ...          1       0      0\n",
              "292        0.753522      -0.777453           1.440552  ...          1       0      0\n",
              "302        0.603845      -1.294128           0.791607  ...          1       0      0\n",
              "62        -1.229692      -0.054107          -1.155227  ...          1       0      0\n",
              "181        1.614162       1.495920           0.286873  ...          0       1      0\n",
              "\n",
              "[5 rows x 10 columns]"
            ]
          },
          "metadata": {
            "tags": []
          },
          "execution_count": 17
        }
      ]
    },
    {
      "cell_type": "markdown",
      "metadata": {
        "id": "n-59WZLHMiMn"
      },
      "source": [
        "### Convertimos todos los valores a positivos"
      ]
    },
    {
      "cell_type": "code",
      "metadata": {
        "colab": {
          "base_uri": "https://localhost:8080/",
          "height": 1000
        },
        "id": "aiXjITk8omlc",
        "outputId": "5f9895e0-3761-44b0-d5da-ca988d95228b"
      },
      "source": [
        "bill_l_min = (X_train['bill_length_mm'].min()) *-1\n",
        "X_train['bill_length_mm'] = [i+bill_l_min for i in X_train['bill_length_mm']]\n",
        "X_test['bill_length_mm'] = [i+bill_l_min for i in X_test['bill_length_mm']]\n",
        "\n",
        "bill_d_min = (X_train['bill_depth_mm'].min()) *-1\n",
        "X_train['bill_depth_mm'] = [i+ bill_d_min + 0.0000001 for i in X_train['bill_depth_mm']]\n",
        "X_test['bill_depth_mm'] = [i + bill_d_min+ 0.0000001 for i in X_test['bill_depth_mm']]\n",
        "\n",
        "flipper_min = (X_train['flipper_length_mm'].min()) *-1\n",
        "X_train['flipper_length_mm'] = [i+flipper_min + 0.0000001 for i in X_train['flipper_length_mm']]\n",
        "X_test['flipper_length_mm'] = [i + flipper_min + 0.0000001 for i in X_test['flipper_length_mm']]\n",
        "\n",
        "bdy_mss_min =( X_train['body_mass_g'].min()) *-1\n",
        "X_train['body_mass_g'] = [i + bdy_mss_min + 0.0000001 for i in X_train['body_mass_g']]\n",
        "X_test['body_mass_g'] = [i + bdy_mss_min + 0.0000001 for i in X_test['body_mass_g']]\n",
        "\n",
        "X_train.head()"
      ],
      "execution_count": 18,
      "outputs": [
        {
          "output_type": "stream",
          "text": [
            "/usr/local/lib/python3.6/dist-packages/ipykernel_launcher.py:2: SettingWithCopyWarning:\n",
            "\n",
            "\n",
            "A value is trying to be set on a copy of a slice from a DataFrame.\n",
            "Try using .loc[row_indexer,col_indexer] = value instead\n",
            "\n",
            "See the caveats in the documentation: https://pandas.pydata.org/pandas-docs/stable/user_guide/indexing.html#returning-a-view-versus-a-copy\n",
            "\n",
            "/usr/local/lib/python3.6/dist-packages/ipykernel_launcher.py:3: SettingWithCopyWarning:\n",
            "\n",
            "\n",
            "A value is trying to be set on a copy of a slice from a DataFrame.\n",
            "Try using .loc[row_indexer,col_indexer] = value instead\n",
            "\n",
            "See the caveats in the documentation: https://pandas.pydata.org/pandas-docs/stable/user_guide/indexing.html#returning-a-view-versus-a-copy\n",
            "\n",
            "/usr/local/lib/python3.6/dist-packages/ipykernel_launcher.py:6: SettingWithCopyWarning:\n",
            "\n",
            "\n",
            "A value is trying to be set on a copy of a slice from a DataFrame.\n",
            "Try using .loc[row_indexer,col_indexer] = value instead\n",
            "\n",
            "See the caveats in the documentation: https://pandas.pydata.org/pandas-docs/stable/user_guide/indexing.html#returning-a-view-versus-a-copy\n",
            "\n",
            "/usr/local/lib/python3.6/dist-packages/ipykernel_launcher.py:7: SettingWithCopyWarning:\n",
            "\n",
            "\n",
            "A value is trying to be set on a copy of a slice from a DataFrame.\n",
            "Try using .loc[row_indexer,col_indexer] = value instead\n",
            "\n",
            "See the caveats in the documentation: https://pandas.pydata.org/pandas-docs/stable/user_guide/indexing.html#returning-a-view-versus-a-copy\n",
            "\n",
            "/usr/local/lib/python3.6/dist-packages/ipykernel_launcher.py:10: SettingWithCopyWarning:\n",
            "\n",
            "\n",
            "A value is trying to be set on a copy of a slice from a DataFrame.\n",
            "Try using .loc[row_indexer,col_indexer] = value instead\n",
            "\n",
            "See the caveats in the documentation: https://pandas.pydata.org/pandas-docs/stable/user_guide/indexing.html#returning-a-view-versus-a-copy\n",
            "\n",
            "/usr/local/lib/python3.6/dist-packages/ipykernel_launcher.py:11: SettingWithCopyWarning:\n",
            "\n",
            "\n",
            "A value is trying to be set on a copy of a slice from a DataFrame.\n",
            "Try using .loc[row_indexer,col_indexer] = value instead\n",
            "\n",
            "See the caveats in the documentation: https://pandas.pydata.org/pandas-docs/stable/user_guide/indexing.html#returning-a-view-versus-a-copy\n",
            "\n",
            "/usr/local/lib/python3.6/dist-packages/ipykernel_launcher.py:14: SettingWithCopyWarning:\n",
            "\n",
            "\n",
            "A value is trying to be set on a copy of a slice from a DataFrame.\n",
            "Try using .loc[row_indexer,col_indexer] = value instead\n",
            "\n",
            "See the caveats in the documentation: https://pandas.pydata.org/pandas-docs/stable/user_guide/indexing.html#returning-a-view-versus-a-copy\n",
            "\n",
            "/usr/local/lib/python3.6/dist-packages/ipykernel_launcher.py:15: SettingWithCopyWarning:\n",
            "\n",
            "\n",
            "A value is trying to be set on a copy of a slice from a DataFrame.\n",
            "Try using .loc[row_indexer,col_indexer] = value instead\n",
            "\n",
            "See the caveats in the documentation: https://pandas.pydata.org/pandas-docs/stable/user_guide/indexing.html#returning-a-view-versus-a-copy\n",
            "\n"
          ],
          "name": "stderr"
        },
        {
          "output_type": "execute_result",
          "data": {
            "text/html": [
              "<div>\n",
              "<style scoped>\n",
              "    .dataframe tbody tr th:only-of-type {\n",
              "        vertical-align: middle;\n",
              "    }\n",
              "\n",
              "    .dataframe tbody tr th {\n",
              "        vertical-align: top;\n",
              "    }\n",
              "\n",
              "    .dataframe thead th {\n",
              "        text-align: right;\n",
              "    }\n",
              "</style>\n",
              "<table border=\"1\" class=\"dataframe\">\n",
              "  <thead>\n",
              "    <tr style=\"text-align: right;\">\n",
              "      <th></th>\n",
              "      <th>bill_length_mm</th>\n",
              "      <th>bill_depth_mm</th>\n",
              "      <th>flipper_length_mm</th>\n",
              "      <th>body_mass_g</th>\n",
              "      <th>Adelie</th>\n",
              "      <th>Chinstrap</th>\n",
              "      <th>Gentoo</th>\n",
              "      <th>Torgersen</th>\n",
              "      <th>Biscoe</th>\n",
              "      <th>Dream</th>\n",
              "    </tr>\n",
              "  </thead>\n",
              "  <tbody>\n",
              "    <tr>\n",
              "      <th>27</th>\n",
              "      <td>1.571604</td>\n",
              "      <td>2.428375</td>\n",
              "      <td>1.081574</td>\n",
              "      <td>0.611703</td>\n",
              "      <td>1</td>\n",
              "      <td>0</td>\n",
              "      <td>0</td>\n",
              "      <td>1</td>\n",
              "      <td>0</td>\n",
              "      <td>0</td>\n",
              "    </tr>\n",
              "    <tr>\n",
              "      <th>292</th>\n",
              "      <td>3.012240</td>\n",
              "      <td>1.240021</td>\n",
              "      <td>3.533143</td>\n",
              "      <td>2.936173</td>\n",
              "      <td>0</td>\n",
              "      <td>0</td>\n",
              "      <td>1</td>\n",
              "      <td>1</td>\n",
              "      <td>0</td>\n",
              "      <td>0</td>\n",
              "    </tr>\n",
              "    <tr>\n",
              "      <th>302</th>\n",
              "      <td>2.862564</td>\n",
              "      <td>0.723346</td>\n",
              "      <td>2.884198</td>\n",
              "      <td>2.477396</td>\n",
              "      <td>0</td>\n",
              "      <td>0</td>\n",
              "      <td>1</td>\n",
              "      <td>1</td>\n",
              "      <td>0</td>\n",
              "      <td>0</td>\n",
              "    </tr>\n",
              "    <tr>\n",
              "      <th>62</th>\n",
              "      <td>1.029026</td>\n",
              "      <td>1.963367</td>\n",
              "      <td>0.937365</td>\n",
              "      <td>1.101065</td>\n",
              "      <td>1</td>\n",
              "      <td>0</td>\n",
              "      <td>0</td>\n",
              "      <td>1</td>\n",
              "      <td>0</td>\n",
              "      <td>0</td>\n",
              "    </tr>\n",
              "    <tr>\n",
              "      <th>181</th>\n",
              "      <td>3.872880</td>\n",
              "      <td>3.513394</td>\n",
              "      <td>2.379464</td>\n",
              "      <td>2.263300</td>\n",
              "      <td>0</td>\n",
              "      <td>1</td>\n",
              "      <td>0</td>\n",
              "      <td>0</td>\n",
              "      <td>1</td>\n",
              "      <td>0</td>\n",
              "    </tr>\n",
              "  </tbody>\n",
              "</table>\n",
              "</div>"
            ],
            "text/plain": [
              "     bill_length_mm  bill_depth_mm  flipper_length_mm  ...  Torgersen  Biscoe  Dream\n",
              "27         1.571604       2.428375           1.081574  ...          1       0      0\n",
              "292        3.012240       1.240021           3.533143  ...          1       0      0\n",
              "302        2.862564       0.723346           2.884198  ...          1       0      0\n",
              "62         1.029026       1.963367           0.937365  ...          1       0      0\n",
              "181        3.872880       3.513394           2.379464  ...          0       1      0\n",
              "\n",
              "[5 rows x 10 columns]"
            ]
          },
          "metadata": {
            "tags": []
          },
          "execution_count": 18
        }
      ]
    },
    {
      "cell_type": "code",
      "metadata": {
        "colab": {
          "base_uri": "https://localhost:8080/"
        },
        "id": "bWZptQBer5ik",
        "outputId": "afcbfd32-8715-4e3f-d93b-4479b83dc1b5"
      },
      "source": [
        "X_train['flipper_length_mm'].min()"
      ],
      "execution_count": 19,
      "outputs": [
        {
          "output_type": "execute_result",
          "data": {
            "text/plain": [
              "1e-07"
            ]
          },
          "metadata": {
            "tags": []
          },
          "execution_count": 19
        }
      ]
    },
    {
      "cell_type": "markdown",
      "metadata": {
        "id": "BpNMCZY-MoyS"
      },
      "source": [
        "### Entrenamiento"
      ]
    },
    {
      "cell_type": "code",
      "metadata": {
        "id": "T4DPxmYVEZQg",
        "colab": {
          "base_uri": "https://localhost:8080/"
        },
        "outputId": "bfda984b-5f50-4aa6-e75f-876bf802e662"
      },
      "source": [
        "model = CategoricalNB(alpha=5)\n",
        "model.fit(X_train, y_train)\n",
        "trSc = model.score(X_train, y_train)\n",
        "tsSc = model.score(X_test, y_test)\n",
        "print(f'Train score: {trSc}\\n test score {tsSc}')"
      ],
      "execution_count": 20,
      "outputs": [
        {
          "output_type": "stream",
          "text": [
            "Train score: 0.7896995708154506\n",
            " test score 0.81\n"
          ],
          "name": "stdout"
        }
      ]
    },
    {
      "cell_type": "code",
      "metadata": {
        "id": "6bxy7KxpKfnQ",
        "colab": {
          "base_uri": "https://localhost:8080/"
        },
        "outputId": "02c598c5-bade-402e-aac1-7601a20e7a5a"
      },
      "source": [
        "l =[]\n",
        "for i in range(20):\n",
        "  x = i/100\n",
        "  model = CategoricalNB(alpha=x)\n",
        "  model.fit(X_train, y_train)\n",
        "  trSc = model.score(X_train, y_train)\n",
        "  tsSc = model.score(X_test, y_test)\n",
        "  l.append([x,trSc,tsSc])\n",
        "  print(f' For alpha={i}\\n Train score: {trSc}\\n test score {tsSc}')"
      ],
      "execution_count": 21,
      "outputs": [
        {
          "output_type": "stream",
          "text": [
            " For alpha=0\n",
            " Train score: 0.7982832618025751\n",
            " test score 0.81\n",
            " For alpha=1\n",
            " Train score: 0.7982832618025751\n",
            " test score 0.81\n",
            " For alpha=2\n",
            " Train score: 0.7982832618025751\n",
            " test score 0.81\n",
            " For alpha=3\n",
            " Train score: 0.7982832618025751\n",
            " test score 0.81\n",
            " For alpha=4\n",
            " Train score: 0.7982832618025751\n",
            " test score 0.81\n",
            " For alpha=5\n",
            " Train score: 0.7982832618025751\n",
            " test score 0.81\n",
            " For alpha=6\n",
            " Train score: 0.7982832618025751\n",
            " test score 0.81\n",
            " For alpha=7\n",
            " Train score: 0.7982832618025751\n",
            " test score 0.81\n",
            " For alpha=8\n",
            " Train score: 0.7982832618025751\n",
            " test score 0.81\n",
            " For alpha=9\n",
            " Train score: 0.7982832618025751\n",
            " test score 0.81\n",
            " For alpha=10\n",
            " Train score: 0.7982832618025751\n",
            " test score 0.81\n",
            " For alpha=11\n",
            " Train score: 0.7982832618025751\n",
            " test score 0.81\n",
            " For alpha=12\n",
            " Train score: 0.7982832618025751\n",
            " test score 0.81\n",
            " For alpha=13\n",
            " Train score: 0.7982832618025751\n",
            " test score 0.81\n",
            " For alpha=14\n",
            " Train score: 0.7982832618025751\n",
            " test score 0.81\n",
            " For alpha=15\n",
            " Train score: 0.7982832618025751\n",
            " test score 0.81\n",
            " For alpha=16\n",
            " Train score: 0.7982832618025751\n",
            " test score 0.81\n",
            " For alpha=17\n",
            " Train score: 0.7982832618025751\n",
            " test score 0.81\n",
            " For alpha=18\n",
            " Train score: 0.7982832618025751\n",
            " test score 0.81\n",
            " For alpha=19\n",
            " Train score: 0.7982832618025751\n",
            " test score 0.8\n"
          ],
          "name": "stdout"
        },
        {
          "output_type": "stream",
          "text": [
            "/usr/local/lib/python3.6/dist-packages/sklearn/naive_bayes.py:507: UserWarning:\n",
            "\n",
            "alpha too small will result in numeric errors, setting alpha = 1.0e-10\n",
            "\n"
          ],
          "name": "stderr"
        }
      ]
    },
    {
      "cell_type": "code",
      "metadata": {
        "id": "BoHob_C9K8SJ",
        "colab": {
          "base_uri": "https://localhost:8080/",
          "height": 554
        },
        "outputId": "d40b843f-a748-4471-83ab-ec9d6ff570d0"
      },
      "source": [
        "l = np.array(l)\n",
        "fig, ax = plt.subplots(figsize = (16,9))\n",
        "plt.plot(l[:,0],l[:,1], color='darkcyan')\n",
        "plt.plot(l[:,0],l[:,2], color= 'palevioletred')"
      ],
      "execution_count": 22,
      "outputs": [
        {
          "output_type": "execute_result",
          "data": {
            "text/plain": [
              "[<matplotlib.lines.Line2D at 0x7f13ae8a1dd8>]"
            ]
          },
          "metadata": {
            "tags": []
          },
          "execution_count": 22
        },
        {
          "output_type": "display_data",
          "data": {
            "image/png": "[encoded data removed]",
            "text/plain": [
              "<Figure size 1152x648 with 1 Axes>"
            ]
          },
          "metadata": {
            "tags": [],
            "needs_background": "light"
          }
        }
      ]
    },
    {
      "cell_type": "code",
      "metadata": {
        "id": "VZUAY8ss07zC",
        "colab": {
          "base_uri": "https://localhost:8080/",
          "height": 554
        },
        "outputId": "27e64854-9552-4bd6-be42-10dc425dc457"
      },
      "source": [
        "fig, ax = plt.subplots(figsize = (16,9))\n",
        "plt.plot(l[:,0],(l[:,1]-l[:,2]))"
      ],
      "execution_count": 23,
      "outputs": [
        {
          "output_type": "execute_result",
          "data": {
            "text/plain": [
              "[<matplotlib.lines.Line2D at 0x7f13ae8e6c50>]"
            ]
          },
          "metadata": {
            "tags": []
          },
          "execution_count": 23
        },
        {
          "output_type": "display_data",
          "data": {
            "image/png": "[encoded data removed]",
            "text/plain": [
              "<Figure size 1152x648 with 1 Axes>"
            ]
          },
          "metadata": {
            "tags": [],
            "needs_background": "light"
          }
        }
      ]
    },
    {
      "cell_type": "code",
      "metadata": {
        "id": "VBBbRgT92K4-",
        "colab": {
          "base_uri": "https://localhost:8080/"
        },
        "outputId": "af04543f-e135-4148-eceb-d81f171af3fa"
      },
      "source": [
        "model = CategoricalNB()\n",
        "model.fit(X_train, y_train)\n",
        "trSc = model.score(X_train, y_train)\n",
        "tsSc = model.score(X_test, y_test)\n",
        "\n",
        "print(f'Train score: {trSc}\\n test score: {tsSc}')"
      ],
      "execution_count": 24,
      "outputs": [
        {
          "output_type": "stream",
          "text": [
            "Train score: 0.7939914163090128\n",
            " test score: 0.8\n"
          ],
          "name": "stdout"
        }
      ]
    },
    {
      "cell_type": "markdown",
      "metadata": {
        "id": "R5MIZ4zpMs_B"
      },
      "source": [
        "### Estadísticas"
      ]
    },
    {
      "cell_type": "code",
      "metadata": {
        "id": "MTElHRGktF66",
        "colab": {
          "base_uri": "https://localhost:8080/"
        },
        "outputId": "4b2f1131-7cbe-43ae-e680-62406cf381a1"
      },
      "source": [
        "y_pred = model.predict(X_test)\n",
        "accuracy_score(y_test, y_pred)\n"
      ],
      "execution_count": 25,
      "outputs": [
        {
          "output_type": "execute_result",
          "data": {
            "text/plain": [
              "0.8"
            ]
          },
          "metadata": {
            "tags": []
          },
          "execution_count": 25
        }
      ]
    },
    {
      "cell_type": "code",
      "metadata": {
        "id": "jHc3Cyj32ScF",
        "colab": {
          "base_uri": "https://localhost:8080/",
          "height": 419
        },
        "outputId": "1a2ddcd1-afc6-4c27-bf1a-6dfc63832210"
      },
      "source": [
        "fpr, tpr, thresholds = roc_curve(y_test, list(model.predict_proba(X_test)[:,1]), drop_intermediate= False)\n",
        "df_roc = pd.DataFrame({'fpr':fpr, 'tpr':tpr, 'threshold':thresholds})\n",
        "df_roc"
      ],
      "execution_count": 26,
      "outputs": [
        {
          "output_type": "execute_result",
          "data": {
            "text/html": [
              "<div>\n",
              "<style scoped>\n",
              "    .dataframe tbody tr th:only-of-type {\n",
              "        vertical-align: middle;\n",
              "    }\n",
              "\n",
              "    .dataframe tbody tr th {\n",
              "        vertical-align: top;\n",
              "    }\n",
              "\n",
              "    .dataframe thead th {\n",
              "        text-align: right;\n",
              "    }\n",
              "</style>\n",
              "<table border=\"1\" class=\"dataframe\">\n",
              "  <thead>\n",
              "    <tr style=\"text-align: right;\">\n",
              "      <th></th>\n",
              "      <th>fpr</th>\n",
              "      <th>tpr</th>\n",
              "      <th>threshold</th>\n",
              "    </tr>\n",
              "  </thead>\n",
              "  <tbody>\n",
              "    <tr>\n",
              "      <th>0</th>\n",
              "      <td>0.000000</td>\n",
              "      <td>0.000000</td>\n",
              "      <td>1.998835</td>\n",
              "    </tr>\n",
              "    <tr>\n",
              "      <th>1</th>\n",
              "      <td>0.000000</td>\n",
              "      <td>0.057692</td>\n",
              "      <td>0.998835</td>\n",
              "    </tr>\n",
              "    <tr>\n",
              "      <th>2</th>\n",
              "      <td>0.000000</td>\n",
              "      <td>0.076923</td>\n",
              "      <td>0.997905</td>\n",
              "    </tr>\n",
              "    <tr>\n",
              "      <th>3</th>\n",
              "      <td>0.000000</td>\n",
              "      <td>0.096154</td>\n",
              "      <td>0.997733</td>\n",
              "    </tr>\n",
              "    <tr>\n",
              "      <th>4</th>\n",
              "      <td>0.000000</td>\n",
              "      <td>0.192308</td>\n",
              "      <td>0.994621</td>\n",
              "    </tr>\n",
              "    <tr>\n",
              "      <th>...</th>\n",
              "      <td>...</td>\n",
              "      <td>...</td>\n",
              "      <td>...</td>\n",
              "    </tr>\n",
              "    <tr>\n",
              "      <th>61</th>\n",
              "      <td>0.875000</td>\n",
              "      <td>1.000000</td>\n",
              "      <td>0.022804</td>\n",
              "    </tr>\n",
              "    <tr>\n",
              "      <th>62</th>\n",
              "      <td>0.895833</td>\n",
              "      <td>1.000000</td>\n",
              "      <td>0.020323</td>\n",
              "    </tr>\n",
              "    <tr>\n",
              "      <th>63</th>\n",
              "      <td>0.916667</td>\n",
              "      <td>1.000000</td>\n",
              "      <td>0.013261</td>\n",
              "    </tr>\n",
              "    <tr>\n",
              "      <th>64</th>\n",
              "      <td>0.979167</td>\n",
              "      <td>1.000000</td>\n",
              "      <td>0.012347</td>\n",
              "    </tr>\n",
              "    <tr>\n",
              "      <th>65</th>\n",
              "      <td>1.000000</td>\n",
              "      <td>1.000000</td>\n",
              "      <td>0.011838</td>\n",
              "    </tr>\n",
              "  </tbody>\n",
              "</table>\n",
              "<p>66 rows × 3 columns</p>\n",
              "</div>"
            ],
            "text/plain": [
              "         fpr       tpr  threshold\n",
              "0   0.000000  0.000000   1.998835\n",
              "1   0.000000  0.057692   0.998835\n",
              "2   0.000000  0.076923   0.997905\n",
              "3   0.000000  0.096154   0.997733\n",
              "4   0.000000  0.192308   0.994621\n",
              "..       ...       ...        ...\n",
              "61  0.875000  1.000000   0.022804\n",
              "62  0.895833  1.000000   0.020323\n",
              "63  0.916667  1.000000   0.013261\n",
              "64  0.979167  1.000000   0.012347\n",
              "65  1.000000  1.000000   0.011838\n",
              "\n",
              "[66 rows x 3 columns]"
            ]
          },
          "metadata": {
            "tags": []
          },
          "execution_count": 26
        }
      ]
    },
    {
      "cell_type": "code",
      "metadata": {
        "id": "-Njv5VRB20BV",
        "colab": {
          "base_uri": "https://localhost:8080/",
          "height": 542
        },
        "outputId": "abc8de05-3a76-4590-c847-8d4ea6df8310"
      },
      "source": [
        "fig = px.line(df_roc, x='fpr', y='tpr', hover_data=['threshold'])\n",
        "fig.show()"
      ],
      "execution_count": 27,
      "outputs": [
        {
          "output_type": "display_data",
          "data": {
            "text/html": [
              "<html>\n",
              "<head><meta charset=\"utf-8\" /></head>\n",
              "<body>\n",
              "    <div>\n",
              "            <script src=\"https://cdnjs.cloudflare.com/ajax/libs/mathjax/2.7.5/MathJax.js?config=TeX-AMS-MML_SVG\"></script><script type=\"text/javascript\">if (window.MathJax) {MathJax.Hub.Config({SVG: {font: \"STIX-Web\"}});}</script>\n",
              "                <script type=\"text/javascript\">window.PlotlyConfig = {MathJaxConfig: 'local'};</script>\n",
              "        <script src=\"https://cdn.plot.ly/plotly-latest.min.js\"></script>    \n",
              "            <div id=\"05d4dd48-eb3f-4b13-9acd-f740b0d5ee80\" class=\"plotly-graph-div\" style=\"height:525px; width:100%;\"></div>\n",
              "            <script type=\"text/javascript\">\n",
              "                \n",
              "                    window.PLOTLYENV=window.PLOTLYENV || {};\n",
              "                    \n",
              "                if (document.getElementById(\"05d4dd48-eb3f-4b13-9acd-f740b0d5ee80\")) {\n",
              "                    Plotly.newPlot(\n",
              "                        '05d4dd48-eb3f-4b13-9acd-f740b0d5ee80',\n",
              "                        [{\"customdata\": [[1.9988348113870829], [0.998834811387083], [0.9979046137129423], [0.9977328137921221], [0.9946205548609092], [0.9940264092458703], [0.9901736243932299], [0.9882414950049905], [0.9824504824289119], [0.9728930815487945], [0.9660987445805876], [0.9549604043989716], [0.9517413450585691], [0.9497485803186254], [0.9313495929751883], [0.9058469760787912], [0.8744451902749085], [0.8313778191566492], [0.8207986350062343], [0.7925405601614621], [0.7296059061534423], [0.7247838677821108], [0.7192988651773107], [0.718619787539346], [0.6955120954592625], [0.6596970420769548], [0.6438770453657643], [0.635859092485779], [0.518026063732036], [0.49077240277922524], [0.47269610369285286], [0.4621018384789129], [0.4508581513628273], [0.4225843279815341], [0.3669847053077575], [0.35317772407107534], [0.3457628973604407], [0.3427547217633149], [0.30654341961606657], [0.3059385121311956], [0.22522254993091023], [0.2246636097107206], [0.21893891530646695], [0.2085864261704463], [0.16822424618848122], [0.16311707553064622], [0.16183905605978097], [0.15781943939391666], [0.14649781369240525], [0.1412559752697219], [0.123850465218939], [0.11496434032141618], [0.1043259864759718], [0.0940612600522256], [0.09018581737513608], [0.08653561976161062], [0.07902853262891356], [0.0778691241826576], [0.05926824228282623], [0.031330092485338384], [0.025511587577771857], [0.022804045633027386], [0.020322813179586525], [0.013261495679324659], [0.012346612863668536], [0.011838260761957656]], \"hoverlabel\": {\"namelength\": 0}, \"hovertemplate\": \"fpr=%{x}<br>tpr=%{y}<br>threshold=%{customdata[0]}\", \"legendgroup\": \"\", \"line\": {\"color\": \"#636efa\", \"dash\": \"solid\"}, \"mode\": \"lines\", \"name\": \"\", \"showlegend\": false, \"type\": \"scatter\", \"x\": [0.0, 0.0, 0.0, 0.0, 0.0, 0.0, 0.0, 0.0, 0.0, 0.0, 0.0, 0.020833333333333332, 0.020833333333333332, 0.020833333333333332, 0.020833333333333332, 0.020833333333333332, 0.020833333333333332, 0.020833333333333332, 0.020833333333333332, 0.041666666666666664, 0.041666666666666664, 0.041666666666666664, 0.0625, 0.08333333333333333, 0.08333333333333333, 0.10416666666666667, 0.125, 0.125, 0.125, 0.125, 0.14583333333333334, 0.14583333333333334, 0.14583333333333334, 0.16666666666666666, 0.1875, 0.20833333333333334, 0.22916666666666666, 0.25, 0.2708333333333333, 0.2708333333333333, 0.2708333333333333, 0.2708333333333333, 0.2916666666666667, 0.3125, 0.3333333333333333, 0.3541666666666667, 0.375, 0.5, 0.5208333333333334, 0.5416666666666666, 0.5416666666666666, 0.5625, 0.5833333333333334, 0.6041666666666666, 0.6041666666666666, 0.625, 0.7708333333333334, 0.7916666666666666, 0.8125, 0.8333333333333334, 0.8541666666666666, 0.875, 0.8958333333333334, 0.9166666666666666, 0.9791666666666666, 1.0], \"xaxis\": \"x\", \"y\": [0.0, 0.057692307692307696, 0.07692307692307693, 0.09615384615384616, 0.19230769230769232, 0.21153846153846154, 0.23076923076923078, 0.25, 0.28846153846153844, 0.3269230769230769, 0.34615384615384615, 0.36538461538461536, 0.40384615384615385, 0.4230769230769231, 0.4423076923076923, 0.4807692307692308, 0.5, 0.5192307692307693, 0.5576923076923077, 0.5961538461538461, 0.6153846153846154, 0.6538461538461539, 0.6538461538461539, 0.6538461538461539, 0.6923076923076923, 0.6923076923076923, 0.6923076923076923, 0.7115384615384616, 0.7307692307692307, 0.8076923076923077, 0.8461538461538461, 0.8653846153846154, 0.9038461538461539, 0.9038461538461539, 0.9038461538461539, 0.9038461538461539, 0.9038461538461539, 0.9038461538461539, 0.9038461538461539, 0.9230769230769231, 0.9423076923076923, 0.9615384615384616, 0.9615384615384616, 0.9615384615384616, 0.9615384615384616, 0.9615384615384616, 0.9615384615384616, 0.9615384615384616, 0.9615384615384616, 0.9615384615384616, 0.9807692307692307, 0.9807692307692307, 0.9807692307692307, 0.9807692307692307, 1.0, 1.0, 1.0, 1.0, 1.0, 1.0, 1.0, 1.0, 1.0, 1.0, 1.0, 1.0], \"yaxis\": \"y\"}],\n",
              "                        {\"legend\": {\"tracegroupgap\": 0}, \"margin\": {\"t\": 60}, \"template\": {\"data\": {\"bar\": [{\"error_x\": {\"color\": \"#2a3f5f\"}, \"error_y\": {\"color\": \"#2a3f5f\"}, \"marker\": {\"line\": {\"color\": \"#E5ECF6\", \"width\": 0.5}}, \"type\": \"bar\"}], \"barpolar\": [{\"marker\": {\"line\": {\"color\": \"#E5ECF6\", \"width\": 0.5}}, \"type\": \"barpolar\"}], \"carpet\": [{\"aaxis\": {\"endlinecolor\": \"#2a3f5f\", \"gridcolor\": \"white\", \"linecolor\": \"white\", \"minorgridcolor\": \"white\", \"startlinecolor\": \"#2a3f5f\"}, \"baxis\": {\"endlinecolor\": \"#2a3f5f\", \"gridcolor\": \"white\", \"linecolor\": \"white\", \"minorgridcolor\": \"white\", \"startlinecolor\": \"#2a3f5f\"}, \"type\": \"carpet\"}], \"choropleth\": [{\"colorbar\": {\"outlinewidth\": 0, \"ticks\": \"\"}, \"type\": \"choropleth\"}], \"contour\": [{\"colorbar\": {\"outlinewidth\": 0, \"ticks\": \"\"}, \"colorscale\": [[0.0, \"#0d0887\"], [0.1111111111111111, \"#46039f\"], [0.2222222222222222, \"#7201a8\"], [0.3333333333333333, \"#9c179e\"], [0.4444444444444444, \"#bd3786\"], [0.5555555555555556, \"#d8576b\"], [0.6666666666666666, \"#ed7953\"], [0.7777777777777778, \"#fb9f3a\"], [0.8888888888888888, \"#fdca26\"], [1.0, \"#f0f921\"]], \"type\": \"contour\"}], \"contourcarpet\": [{\"colorbar\": {\"outlinewidth\": 0, \"ticks\": \"\"}, \"type\": \"contourcarpet\"}], \"heatmap\": [{\"colorbar\": {\"outlinewidth\": 0, \"ticks\": \"\"}, \"colorscale\": [[0.0, \"#0d0887\"], [0.1111111111111111, \"#46039f\"], [0.2222222222222222, \"#7201a8\"], [0.3333333333333333, \"#9c179e\"], [0.4444444444444444, \"#bd3786\"], [0.5555555555555556, \"#d8576b\"], [0.6666666666666666, \"#ed7953\"], [0.7777777777777778, \"#fb9f3a\"], [0.8888888888888888, \"#fdca26\"], [1.0, \"#f0f921\"]], \"type\": \"heatmap\"}], \"heatmapgl\": [{\"colorbar\": {\"outlinewidth\": 0, \"ticks\": \"\"}, \"colorscale\": [[0.0, \"#0d0887\"], [0.1111111111111111, \"#46039f\"], [0.2222222222222222, \"#7201a8\"], [0.3333333333333333, \"#9c179e\"], [0.4444444444444444, \"#bd3786\"], [0.5555555555555556, \"#d8576b\"], [0.6666666666666666, \"#ed7953\"], [0.7777777777777778, \"#fb9f3a\"], [0.8888888888888888, \"#fdca26\"], [1.0, \"#f0f921\"]], \"type\": \"heatmapgl\"}], \"histogram\": [{\"marker\": {\"colorbar\": {\"outlinewidth\": 0, \"ticks\": \"\"}}, \"type\": \"histogram\"}], \"histogram2d\": [{\"colorbar\": {\"outlinewidth\": 0, \"ticks\": \"\"}, \"colorscale\": [[0.0, \"#0d0887\"], [0.1111111111111111, \"#46039f\"], [0.2222222222222222, \"#7201a8\"], [0.3333333333333333, \"#9c179e\"], [0.4444444444444444, \"#bd3786\"], [0.5555555555555556, \"#d8576b\"], [0.6666666666666666, \"#ed7953\"], [0.7777777777777778, \"#fb9f3a\"], [0.8888888888888888, \"#fdca26\"], [1.0, \"#f0f921\"]], \"type\": \"histogram2d\"}], \"histogram2dcontour\": [{\"colorbar\": {\"outlinewidth\": 0, \"ticks\": \"\"}, \"colorscale\": [[0.0, \"#0d0887\"], [0.1111111111111111, \"#46039f\"], [0.2222222222222222, \"#7201a8\"], [0.3333333333333333, \"#9c179e\"], [0.4444444444444444, \"#bd3786\"], [0.5555555555555556, \"#d8576b\"], [0.6666666666666666, \"#ed7953\"], [0.7777777777777778, \"#fb9f3a\"], [0.8888888888888888, \"#fdca26\"], [1.0, \"#f0f921\"]], \"type\": \"histogram2dcontour\"}], \"mesh3d\": [{\"colorbar\": {\"outlinewidth\": 0, \"ticks\": \"\"}, \"type\": \"mesh3d\"}], \"parcoords\": [{\"line\": {\"colorbar\": {\"outlinewidth\": 0, \"ticks\": \"\"}}, \"type\": \"parcoords\"}], \"pie\": [{\"automargin\": true, \"type\": \"pie\"}], \"scatter\": [{\"marker\": {\"colorbar\": {\"outlinewidth\": 0, \"ticks\": \"\"}}, \"type\": \"scatter\"}], \"scatter3d\": [{\"line\": {\"colorbar\": {\"outlinewidth\": 0, \"ticks\": \"\"}}, \"marker\": {\"colorbar\": {\"outlinewidth\": 0, \"ticks\": \"\"}}, \"type\": \"scatter3d\"}], \"scattercarpet\": [{\"marker\": {\"colorbar\": {\"outlinewidth\": 0, \"ticks\": \"\"}}, \"type\": \"scattercarpet\"}], \"scattergeo\": [{\"marker\": {\"colorbar\": {\"outlinewidth\": 0, \"ticks\": \"\"}}, \"type\": \"scattergeo\"}], \"scattergl\": [{\"marker\": {\"colorbar\": {\"outlinewidth\": 0, \"ticks\": \"\"}}, \"type\": \"scattergl\"}], \"scattermapbox\": [{\"marker\": {\"colorbar\": {\"outlinewidth\": 0, \"ticks\": \"\"}}, \"type\": \"scattermapbox\"}], \"scatterpolar\": [{\"marker\": {\"colorbar\": {\"outlinewidth\": 0, \"ticks\": \"\"}}, \"type\": \"scatterpolar\"}], \"scatterpolargl\": [{\"marker\": {\"colorbar\": {\"outlinewidth\": 0, \"ticks\": \"\"}}, \"type\": \"scatterpolargl\"}], \"scatterternary\": [{\"marker\": {\"colorbar\": {\"outlinewidth\": 0, \"ticks\": \"\"}}, \"type\": \"scatterternary\"}], \"surface\": [{\"colorbar\": {\"outlinewidth\": 0, \"ticks\": \"\"}, \"colorscale\": [[0.0, \"#0d0887\"], [0.1111111111111111, \"#46039f\"], [0.2222222222222222, \"#7201a8\"], [0.3333333333333333, \"#9c179e\"], [0.4444444444444444, \"#bd3786\"], [0.5555555555555556, \"#d8576b\"], [0.6666666666666666, \"#ed7953\"], [0.7777777777777778, \"#fb9f3a\"], [0.8888888888888888, \"#fdca26\"], [1.0, \"#f0f921\"]], \"type\": \"surface\"}], \"table\": [{\"cells\": {\"fill\": {\"color\": \"#EBF0F8\"}, \"line\": {\"color\": \"white\"}}, \"header\": {\"fill\": {\"color\": \"#C8D4E3\"}, \"line\": {\"color\": \"white\"}}, \"type\": \"table\"}]}, \"layout\": {\"annotationdefaults\": {\"arrowcolor\": \"#2a3f5f\", \"arrowhead\": 0, \"arrowwidth\": 1}, \"coloraxis\": {\"colorbar\": {\"outlinewidth\": 0, \"ticks\": \"\"}}, \"colorscale\": {\"diverging\": [[0, \"#8e0152\"], [0.1, \"#c51b7d\"], [0.2, \"#de77ae\"], [0.3, \"#f1b6da\"], [0.4, \"#fde0ef\"], [0.5, \"#f7f7f7\"], [0.6, \"#e6f5d0\"], [0.7, \"#b8e186\"], [0.8, \"#7fbc41\"], [0.9, \"#4d9221\"], [1, \"#276419\"]], \"sequential\": [[0.0, \"#0d0887\"], [0.1111111111111111, \"#46039f\"], [0.2222222222222222, \"#7201a8\"], [0.3333333333333333, \"#9c179e\"], [0.4444444444444444, \"#bd3786\"], [0.5555555555555556, \"#d8576b\"], [0.6666666666666666, \"#ed7953\"], [0.7777777777777778, \"#fb9f3a\"], [0.8888888888888888, \"#fdca26\"], [1.0, \"#f0f921\"]], \"sequentialminus\": [[0.0, \"#0d0887\"], [0.1111111111111111, \"#46039f\"], [0.2222222222222222, \"#7201a8\"], [0.3333333333333333, \"#9c179e\"], [0.4444444444444444, \"#bd3786\"], [0.5555555555555556, \"#d8576b\"], [0.6666666666666666, \"#ed7953\"], [0.7777777777777778, \"#fb9f3a\"], [0.8888888888888888, \"#fdca26\"], [1.0, \"#f0f921\"]]}, \"colorway\": [\"#636efa\", \"#EF553B\", \"#00cc96\", \"#ab63fa\", \"#FFA15A\", \"#19d3f3\", \"#FF6692\", \"#B6E880\", \"#FF97FF\", \"#FECB52\"], \"font\": {\"color\": \"#2a3f5f\"}, \"geo\": {\"bgcolor\": \"white\", \"lakecolor\": \"white\", \"landcolor\": \"#E5ECF6\", \"showlakes\": true, \"showland\": true, \"subunitcolor\": \"white\"}, \"hoverlabel\": {\"align\": \"left\"}, \"hovermode\": \"closest\", \"mapbox\": {\"style\": \"light\"}, \"paper_bgcolor\": \"white\", \"plot_bgcolor\": \"#E5ECF6\", \"polar\": {\"angularaxis\": {\"gridcolor\": \"white\", \"linecolor\": \"white\", \"ticks\": \"\"}, \"bgcolor\": \"#E5ECF6\", \"radialaxis\": {\"gridcolor\": \"white\", \"linecolor\": \"white\", \"ticks\": \"\"}}, \"scene\": {\"xaxis\": {\"backgroundcolor\": \"#E5ECF6\", \"gridcolor\": \"white\", \"gridwidth\": 2, \"linecolor\": \"white\", \"showbackground\": true, \"ticks\": \"\", \"zerolinecolor\": \"white\"}, \"yaxis\": {\"backgroundcolor\": \"#E5ECF6\", \"gridcolor\": \"white\", \"gridwidth\": 2, \"linecolor\": \"white\", \"showbackground\": true, \"ticks\": \"\", \"zerolinecolor\": \"white\"}, \"zaxis\": {\"backgroundcolor\": \"#E5ECF6\", \"gridcolor\": \"white\", \"gridwidth\": 2, \"linecolor\": \"white\", \"showbackground\": true, \"ticks\": \"\", \"zerolinecolor\": \"white\"}}, \"shapedefaults\": {\"line\": {\"color\": \"#2a3f5f\"}}, \"ternary\": {\"aaxis\": {\"gridcolor\": \"white\", \"linecolor\": \"white\", \"ticks\": \"\"}, \"baxis\": {\"gridcolor\": \"white\", \"linecolor\": \"white\", \"ticks\": \"\"}, \"bgcolor\": \"#E5ECF6\", \"caxis\": {\"gridcolor\": \"white\", \"linecolor\": \"white\", \"ticks\": \"\"}}, \"title\": {\"x\": 0.05}, \"xaxis\": {\"automargin\": true, \"gridcolor\": \"white\", \"linecolor\": \"white\", \"ticks\": \"\", \"title\": {\"standoff\": 15}, \"zerolinecolor\": \"white\", \"zerolinewidth\": 2}, \"yaxis\": {\"automargin\": true, \"gridcolor\": \"white\", \"linecolor\": \"white\", \"ticks\": \"\", \"title\": {\"standoff\": 15}, \"zerolinecolor\": \"white\", \"zerolinewidth\": 2}}}, \"xaxis\": {\"anchor\": \"y\", \"domain\": [0.0, 1.0], \"title\": {\"text\": \"fpr\"}}, \"yaxis\": {\"anchor\": \"x\", \"domain\": [0.0, 1.0], \"title\": {\"text\": \"tpr\"}}},\n",
              "                        {\"responsive\": true}\n",
              "                    ).then(function(){\n",
              "                            \n",
              "var gd = document.getElementById('05d4dd48-eb3f-4b13-9acd-f740b0d5ee80');\n",
              "var x = new MutationObserver(function (mutations, observer) {{\n",
              "        var display = window.getComputedStyle(gd).display;\n",
              "        if (!display || display === 'none') {{\n",
              "            console.log([gd, 'removed!']);\n",
              "            Plotly.purge(gd);\n",
              "            observer.disconnect();\n",
              "        }}\n",
              "}});\n",
              "\n",
              "// Listen for the removal of the full notebook cells\n",
              "var notebookContainer = gd.closest('#notebook-container');\n",
              "if (notebookContainer) {{\n",
              "    x.observe(notebookContainer, {childList: true});\n",
              "}}\n",
              "\n",
              "// Listen for the clearing of the current output cell\n",
              "var outputEl = gd.closest('.output');\n",
              "if (outputEl) {{\n",
              "    x.observe(outputEl, {childList: true});\n",
              "}}\n",
              "\n",
              "                        })\n",
              "                };\n",
              "                \n",
              "            </script>\n",
              "        </div>\n",
              "</body>\n",
              "</html>"
            ]
          },
          "metadata": {
            "tags": []
          }
        }
      ]
    },
    {
      "cell_type": "code",
      "metadata": {
        "colab": {
          "base_uri": "https://localhost:8080/"
        },
        "id": "AygXw7EttBuN",
        "outputId": "8a733d97-b54e-4c1e-c452-bdd9ae73673e"
      },
      "source": [
        "auc(fpr,tpr)"
      ],
      "execution_count": 28,
      "outputs": [
        {
          "output_type": "execute_result",
          "data": {
            "text/plain": [
              "0.9232772435897436"
            ]
          },
          "metadata": {
            "tags": []
          },
          "execution_count": 28
        }
      ]
    },
    {
      "cell_type": "code",
      "metadata": {
        "id": "WKb2D0wLtY90"
      },
      "source": [
        "predpr = model.predict_proba(X_test)[:,1]"
      ],
      "execution_count": 29,
      "outputs": []
    },
    {
      "cell_type": "code",
      "metadata": {
        "id": "hDr8-_jgr4Iz",
        "colab": {
          "base_uri": "https://localhost:8080/"
        },
        "outputId": "51beec5b-3415-4278-91b8-c4e0a2132239"
      },
      "source": [
        "l = []\n",
        "for j in range(100):\n",
        "  x = j/100\n",
        "  rl = []\n",
        "  for i in predpr:\n",
        "    if i > x:\n",
        "      rl.append(1)\n",
        "    else:\n",
        "      rl.append(0)\n",
        "  bl =[]\n",
        "  for i in range(len(rl)):\n",
        "    if rl[i] == y_test.iloc[i]:\n",
        "      bl.append(True)\n",
        "    else:\n",
        "      bl.append(False)\n",
        "  l.append([x,sum(bl) / len(bl)])\n",
        "  print( f' With threshold {x} the predictions are {sum(bl) / len(bl)} accurate')"
      ],
      "execution_count": 30,
      "outputs": [
        {
          "output_type": "stream",
          "text": [
            " With threshold 0.0 the predictions are 0.52 accurate\n",
            " With threshold 0.01 the predictions are 0.52 accurate\n",
            " With threshold 0.02 the predictions are 0.57 accurate\n",
            " With threshold 0.03 the predictions are 0.6 accurate\n",
            " With threshold 0.04 the predictions are 0.61 accurate\n",
            " With threshold 0.05 the predictions are 0.61 accurate\n",
            " With threshold 0.06 the predictions are 0.62 accurate\n",
            " With threshold 0.07 the predictions are 0.62 accurate\n",
            " With threshold 0.08 the predictions are 0.7 accurate\n",
            " With threshold 0.09 the predictions are 0.71 accurate\n",
            " With threshold 0.1 the predictions are 0.71 accurate\n",
            " With threshold 0.11 the predictions are 0.72 accurate\n",
            " With threshold 0.12 the predictions are 0.73 accurate\n",
            " With threshold 0.13 the predictions are 0.72 accurate\n",
            " With threshold 0.14 the predictions are 0.72 accurate\n",
            " With threshold 0.15 the predictions are 0.74 accurate\n",
            " With threshold 0.16 the predictions are 0.8 accurate\n",
            " With threshold 0.17 the predictions are 0.83 accurate\n",
            " With threshold 0.18 the predictions are 0.83 accurate\n",
            " With threshold 0.19 the predictions are 0.83 accurate\n",
            " With threshold 0.2 the predictions are 0.83 accurate\n",
            " With threshold 0.21 the predictions are 0.84 accurate\n",
            " With threshold 0.22 the predictions are 0.85 accurate\n",
            " With threshold 0.23 the predictions are 0.83 accurate\n",
            " With threshold 0.24 the predictions are 0.83 accurate\n",
            " With threshold 0.25 the predictions are 0.83 accurate\n",
            " With threshold 0.26 the predictions are 0.83 accurate\n",
            " With threshold 0.27 the predictions are 0.83 accurate\n",
            " With threshold 0.28 the predictions are 0.83 accurate\n",
            " With threshold 0.29 the predictions are 0.83 accurate\n",
            " With threshold 0.3 the predictions are 0.83 accurate\n",
            " With threshold 0.31 the predictions are 0.83 accurate\n",
            " With threshold 0.32 the predictions are 0.83 accurate\n",
            " With threshold 0.33 the predictions are 0.83 accurate\n",
            " With threshold 0.34 the predictions are 0.83 accurate\n",
            " With threshold 0.35 the predictions are 0.85 accurate\n",
            " With threshold 0.36 the predictions are 0.86 accurate\n",
            " With threshold 0.37 the predictions are 0.87 accurate\n",
            " With threshold 0.38 the predictions are 0.87 accurate\n",
            " With threshold 0.39 the predictions are 0.87 accurate\n",
            " With threshold 0.4 the predictions are 0.87 accurate\n",
            " With threshold 0.41 the predictions are 0.87 accurate\n",
            " With threshold 0.42 the predictions are 0.87 accurate\n",
            " With threshold 0.43 the predictions are 0.88 accurate\n",
            " With threshold 0.44 the predictions are 0.88 accurate\n",
            " With threshold 0.45 the predictions are 0.88 accurate\n",
            " With threshold 0.46 the predictions are 0.86 accurate\n",
            " With threshold 0.47 the predictions are 0.85 accurate\n",
            " With threshold 0.48 the predictions are 0.84 accurate\n",
            " With threshold 0.49 the predictions are 0.84 accurate\n",
            " With threshold 0.5 the predictions are 0.8 accurate\n",
            " With threshold 0.51 the predictions are 0.8 accurate\n",
            " With threshold 0.52 the predictions are 0.79 accurate\n",
            " With threshold 0.53 the predictions are 0.79 accurate\n",
            " With threshold 0.54 the predictions are 0.79 accurate\n",
            " With threshold 0.55 the predictions are 0.79 accurate\n",
            " With threshold 0.56 the predictions are 0.79 accurate\n",
            " With threshold 0.57 the predictions are 0.79 accurate\n",
            " With threshold 0.58 the predictions are 0.79 accurate\n",
            " With threshold 0.59 the predictions are 0.79 accurate\n",
            " With threshold 0.6 the predictions are 0.79 accurate\n",
            " With threshold 0.61 the predictions are 0.79 accurate\n",
            " With threshold 0.62 the predictions are 0.79 accurate\n",
            " With threshold 0.63 the predictions are 0.79 accurate\n",
            " With threshold 0.64 the predictions are 0.78 accurate\n",
            " With threshold 0.65 the predictions are 0.79 accurate\n",
            " With threshold 0.66 the predictions are 0.8 accurate\n",
            " With threshold 0.67 the predictions are 0.8 accurate\n",
            " With threshold 0.68 the predictions are 0.8 accurate\n",
            " With threshold 0.69 the predictions are 0.8 accurate\n",
            " With threshold 0.7 the predictions are 0.78 accurate\n",
            " With threshold 0.71 the predictions are 0.78 accurate\n",
            " With threshold 0.72 the predictions are 0.8 accurate\n",
            " With threshold 0.73 the predictions are 0.77 accurate\n",
            " With threshold 0.74 the predictions are 0.77 accurate\n",
            " With threshold 0.75 the predictions are 0.77 accurate\n",
            " With threshold 0.76 the predictions are 0.77 accurate\n",
            " With threshold 0.77 the predictions are 0.77 accurate\n",
            " With threshold 0.78 the predictions are 0.77 accurate\n",
            " With threshold 0.79 the predictions are 0.77 accurate\n",
            " With threshold 0.8 the predictions are 0.76 accurate\n",
            " With threshold 0.81 the predictions are 0.76 accurate\n",
            " With threshold 0.82 the predictions are 0.76 accurate\n",
            " With threshold 0.83 the predictions are 0.74 accurate\n",
            " With threshold 0.84 the predictions are 0.73 accurate\n",
            " With threshold 0.85 the predictions are 0.73 accurate\n",
            " With threshold 0.86 the predictions are 0.73 accurate\n",
            " With threshold 0.87 the predictions are 0.73 accurate\n",
            " With threshold 0.88 the predictions are 0.72 accurate\n",
            " With threshold 0.89 the predictions are 0.72 accurate\n",
            " With threshold 0.9 the predictions are 0.72 accurate\n",
            " With threshold 0.91 the predictions are 0.7 accurate\n",
            " With threshold 0.92 the predictions are 0.7 accurate\n",
            " With threshold 0.93 the predictions are 0.7 accurate\n",
            " With threshold 0.94 the predictions are 0.69 accurate\n",
            " With threshold 0.95 the predictions are 0.68 accurate\n",
            " With threshold 0.96 the predictions are 0.66 accurate\n",
            " With threshold 0.97 the predictions are 0.65 accurate\n",
            " With threshold 0.98 the predictions are 0.63 accurate\n",
            " With threshold 0.99 the predictions are 0.6 accurate\n"
          ],
          "name": "stdout"
        }
      ]
    },
    {
      "cell_type": "code",
      "metadata": {
        "colab": {
          "base_uri": "https://localhost:8080/",
          "height": 554
        },
        "id": "fywTIDVtu9nq",
        "outputId": "7ebfd9b3-1a44-4f18-99ea-a216935468fe"
      },
      "source": [
        "l = np.array(l)\n",
        "fig, ax = plt.subplots(figsize = (16,9))\n",
        "plt.plot(l[:,0],l[:,1])"
      ],
      "execution_count": 31,
      "outputs": [
        {
          "output_type": "execute_result",
          "data": {
            "text/plain": [
              "[<matplotlib.lines.Line2D at 0x7f13aeed07b8>]"
            ]
          },
          "metadata": {
            "tags": []
          },
          "execution_count": 31
        },
        {
          "output_type": "display_data",
          "data": {
            "image/png": "[encoded data removed]",
            "text/plain": [
              "<Figure size 1152x648 with 1 Axes>"
            ]
          },
          "metadata": {
            "tags": [],
            "needs_background": "light"
          }
        }
      ]
    },
    {
      "cell_type": "markdown",
      "metadata": {
        "id": "KCoxgxbIM3ql"
      },
      "source": [
        "El threshold que nos da mejor resultado es: 0.44"
      ]
    },
    {
      "cell_type": "markdown",
      "metadata": {
        "id": "mTVNNayROC73"
      },
      "source": [
        "## Conclusión"
      ]
    },
    {
      "cell_type": "markdown",
      "metadata": {
        "id": "hSk3wCdMOz2n"
      },
      "source": [
        "El modelo que mejor resultado nos ha dado es el Categorical Naive Bayes, a pesar de no estar diseñado para hacer divisiones binomiales. "
      ]
    }
  ]
}